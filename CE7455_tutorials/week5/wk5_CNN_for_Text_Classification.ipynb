{
  "cells": [
    {
      "cell_type": "markdown",
      "metadata": {
        "id": "1oN3kA2NsSiY"
      },
      "source": [
        "# 8. Convolutional Neural Networks"
      ]
    },
    {
      "cell_type": "markdown",
      "metadata": {
        "id": "mXLE7piosSib"
      },
      "source": [
        "I recommend you take a look at these material first."
      ]
    },
    {
      "cell_type": "markdown",
      "metadata": {
        "id": "-rsTEUFFsSib"
      },
      "source": [
        "* http://www.aclweb.org/anthology/D14-1181\n",
        "* https://github.com/Shawn1993/cnn-text-classification-pytorch\n",
        "* http://cogcomp.org/Data/QA/QC/"
      ]
    },
    {
      "cell_type": "code",
      "execution_count": null,
      "metadata": {
        "collapsed": true,
        "id": "a8d9_pGMsSib"
      },
      "outputs": [],
      "source": [
        "import torch\n",
        "import torch.nn as nn\n",
        "from torch.autograd import Variable\n",
        "import torch.optim as optim\n",
        "import torch.nn.functional as F\n",
        "import nltk\n",
        "import random\n",
        "import numpy as np\n",
        "from collections import Counter, OrderedDict\n",
        "import nltk\n",
        "import re\n",
        "from copy import deepcopy\n",
        "flatten = lambda l: [item for sublist in l for item in sublist]\n",
        "random.seed(1024)"
      ]
    },
    {
      "cell_type": "code",
      "execution_count": null,
      "metadata": {
        "collapsed": true,
        "id": "hj6Ej-TTsSic"
      },
      "outputs": [],
      "source": [
        "USE_CUDA = torch.cuda.is_available()\n",
        "\n",
        "FloatTensor = torch.cuda.FloatTensor if USE_CUDA else torch.FloatTensor\n",
        "LongTensor = torch.cuda.LongTensor if USE_CUDA else torch.LongTensor\n",
        "ByteTensor = torch.cuda.ByteTensor if USE_CUDA else torch.ByteTensor"
      ]
    },
    {
      "cell_type": "code",
      "execution_count": null,
      "metadata": {
        "collapsed": true,
        "id": "0H3o7h-fsSid"
      },
      "outputs": [],
      "source": [
        "def getBatch(batch_size, train_data):\n",
        "    random.shuffle(train_data)\n",
        "    sindex = 0\n",
        "    eindex = batch_size\n",
        "    while eindex < len(train_data):\n",
        "        batch = train_data[sindex: eindex]\n",
        "        temp = eindex\n",
        "        eindex = eindex + batch_size\n",
        "        sindex = temp\n",
        "        yield batch\n",
        "\n",
        "    if eindex >= len(train_data):\n",
        "        batch = train_data[sindex:]\n",
        "        yield batch"
      ]
    },
    {
      "cell_type": "code",
      "execution_count": null,
      "metadata": {
        "collapsed": true,
        "id": "rWaaLynwsSid"
      },
      "outputs": [],
      "source": [
        "def pad_to_batch(batch):\n",
        "    x,y = zip(*batch)\n",
        "    max_x = max([s.size(1) for s in x])\n",
        "    x_p = []\n",
        "    for i in range(len(batch)):\n",
        "        if x[i].size(1) < max_x:\n",
        "            x_p.append(torch.cat([x[i], Variable(LongTensor([word2index['<PAD>']] * (max_x - x[i].size(1)))).view(1, -1)], 1))\n",
        "        else:\n",
        "            x_p.append(x[i])\n",
        "    return torch.cat(x_p), torch.cat(y).view(-1)"
      ]
    },
    {
      "cell_type": "code",
      "execution_count": null,
      "metadata": {
        "collapsed": true,
        "id": "YuTebgT8sSid"
      },
      "outputs": [],
      "source": [
        "def prepare_sequence(seq, to_index):\n",
        "    idxs = list(map(lambda w: to_index[w] if to_index.get(w) is not None else to_index[\"<UNK>\"], seq))\n",
        "    return Variable(LongTensor(idxs))"
      ]
    },
    {
      "cell_type": "markdown",
      "metadata": {
        "id": "2OfRlQ_SsSid"
      },
      "source": [
        "## Data load & Preprocessing"
      ]
    },
    {
      "cell_type": "markdown",
      "metadata": {
        "id": "UjzHJ3AssSie"
      },
      "source": [
        "### TREC question dataset(https://cogcomp.seas.upenn.edu/Data/QA/QC/)"
      ]
    },
    {
      "cell_type": "markdown",
      "metadata": {
        "id": "yhktGDfCsSie"
      },
      "source": [
        "Task involves\n",
        "classifying a question into 6 question\n",
        "types (whether the question is about person,\n",
        "location, numeric information, etc.)"
      ]
    },
    {
      "cell_type": "code",
      "source": [
        "import requests\n",
        "\n",
        "def download_file(url, filename):\n",
        "    \"\"\"\n",
        "    Download a file from a given URL\n",
        "\n",
        "    :param url: URL to the file\n",
        "    :param filename: Name of the file to save the download as\n",
        "    \"\"\"\n",
        "    # Send a GET request to the URL\n",
        "    response = requests.get(url)\n",
        "\n",
        "    # Raise an exception if the request was unsuccessful\n",
        "    response.raise_for_status()\n",
        "\n",
        "    # Write the content of the response to a file\n",
        "    with open(filename, 'wb') as f:\n",
        "        f.write(response.content)"
      ],
      "metadata": {
        "id": "cQ1kbsV3uvnl"
      },
      "execution_count": null,
      "outputs": []
    },
    {
      "cell_type": "code",
      "source": [
        "data_file = download_file(\"https://cogcomp.seas.upenn.edu/Data/QA/QC/train_5500.label\", \"train_5500.label.txt\")"
      ],
      "metadata": {
        "id": "t1mnF1mbvEWn"
      },
      "execution_count": null,
      "outputs": []
    },
    {
      "cell_type": "code",
      "execution_count": null,
      "metadata": {
        "collapsed": true,
        "id": "aoh4Kqx0sSie"
      },
      "outputs": [],
      "source": [
        "data = open('train_5500.label.txt', 'r', encoding='latin-1').readlines()"
      ]
    },
    {
      "cell_type": "code",
      "execution_count": null,
      "metadata": {
        "collapsed": true,
        "id": "SmHq0psasSie"
      },
      "outputs": [],
      "source": [
        "data = [[' '.join(d.split(' ')[1:-1]), d.split(' ')[0].split(':')[0]] for d in data]"
      ]
    },
    {
      "cell_type": "code",
      "execution_count": null,
      "metadata": {
        "collapsed": true,
        "id": "ktoNRrV_sSie",
        "colab": {
          "base_uri": "https://localhost:8080/"
        },
        "outputId": "a7a5707d-0ab7-42af-f4bb-949774b6374c"
      },
      "outputs": [
        {
          "output_type": "stream",
          "name": "stdout",
          "text": [
            "How did serfdom develop in and then leave Russia\n",
            "DESC\n"
          ]
        }
      ],
      "source": [
        "X, y = list(zip(*data))\n",
        "X = list(X)\n",
        "print(X[0])\n",
        "print(y[0])"
      ]
    },
    {
      "cell_type": "markdown",
      "metadata": {
        "id": "N_wUF6HbsSie"
      },
      "source": [
        "### Num masking"
      ]
    },
    {
      "cell_type": "markdown",
      "metadata": {
        "id": "Y64Ap0-3sSie"
      },
      "source": [
        "It reduces the search space. ex. my birthday is 12.22 ==> my birthday is ##.##"
      ]
    },
    {
      "cell_type": "code",
      "execution_count": null,
      "metadata": {
        "collapsed": true,
        "id": "k5EEq8U2sSie"
      },
      "outputs": [],
      "source": [
        "for i, x in enumerate(X):\n",
        "    X[i] = re.sub('\\d', '#', x).split()"
      ]
    },
    {
      "cell_type": "code",
      "source": [
        "print(X[0], y[0])"
      ],
      "metadata": {
        "id": "uus0QnQXvxjE",
        "colab": {
          "base_uri": "https://localhost:8080/"
        },
        "outputId": "9898d19f-5486-404d-e862-e1cf5df9fd01"
      },
      "execution_count": null,
      "outputs": [
        {
          "output_type": "stream",
          "name": "stdout",
          "text": [
            "['How', 'did', 'serfdom', 'develop', 'in', 'and', 'then', 'leave', 'Russia'] DESC\n"
          ]
        }
      ]
    },
    {
      "cell_type": "markdown",
      "metadata": {
        "id": "i5FsMjfMsSie"
      },
      "source": [
        "### Build Vocab"
      ]
    },
    {
      "cell_type": "code",
      "execution_count": null,
      "metadata": {
        "collapsed": true,
        "id": "YCMD1UW3sSif"
      },
      "outputs": [],
      "source": [
        "vocab = list(set(flatten(X)))"
      ]
    },
    {
      "cell_type": "code",
      "execution_count": null,
      "metadata": {
        "id": "giUMnxcCsSif",
        "colab": {
          "base_uri": "https://localhost:8080/"
        },
        "outputId": "4ce20eb6-e900-4892-bfcc-6518e403933a"
      },
      "outputs": [
        {
          "output_type": "execute_result",
          "data": {
            "text/plain": [
              "9201"
            ]
          },
          "metadata": {},
          "execution_count": 16
        }
      ],
      "source": [
        "len(vocab)"
      ]
    },
    {
      "cell_type": "code",
      "execution_count": null,
      "metadata": {
        "id": "J5BGPkHJsSif",
        "colab": {
          "base_uri": "https://localhost:8080/"
        },
        "outputId": "689bb6c2-12b6-48d6-aeb9-fc6e8996872e"
      },
      "outputs": [
        {
          "output_type": "stream",
          "name": "stdout",
          "text": [
            "{'HUM', 'ENTY', 'DESC', 'ABBR', 'LOC', 'NUM'}\n"
          ]
        }
      ],
      "source": [
        "len(set(y)) # num of class\n",
        "print(set(y))"
      ]
    },
    {
      "cell_type": "code",
      "execution_count": null,
      "metadata": {
        "collapsed": true,
        "id": "0OJhxSEIsSif"
      },
      "outputs": [],
      "source": [
        "word2index={'<PAD>': 0, '<UNK>': 1}\n",
        "\n",
        "for vo in vocab:\n",
        "    if word2index.get(vo) is None:\n",
        "        word2index[vo] = len(word2index)\n",
        "\n",
        "index2word = {v:k for k, v in word2index.items()}\n",
        "\n",
        "target2index = {}\n",
        "\n",
        "for cl in set(y):\n",
        "    if target2index.get(cl) is None:\n",
        "        target2index[cl] = len(target2index)\n",
        "\n",
        "index2target = {v:k for k, v in target2index.items()}"
      ]
    },
    {
      "cell_type": "code",
      "execution_count": null,
      "metadata": {
        "collapsed": true,
        "id": "d7pyIRezsSif"
      },
      "outputs": [],
      "source": [
        "X_p, y_p = [], []\n",
        "for pair in zip(X,y):\n",
        "    X_p.append(prepare_sequence(pair[0], word2index).view(1, -1))\n",
        "    y_p.append(Variable(LongTensor([target2index[pair[1]]])).view(1, -1))\n",
        "\n",
        "data_p = list(zip(X_p, y_p))\n",
        "random.shuffle(data_p)\n",
        "\n",
        "train_data = data_p[: int(len(data_p) * 0.9)]\n",
        "test_data = data_p[int(len(data_p) * 0.9):]"
      ]
    },
    {
      "cell_type": "markdown",
      "metadata": {
        "id": "Wwdf1sZhsSif"
      },
      "source": [
        "### Load Pretrained word vector"
      ]
    },
    {
      "cell_type": "markdown",
      "metadata": {
        "id": "o4B7YhxasSif"
      },
      "source": [
        "you can download pretrained word vector from here https://github.com/mmihaltz/word2vec-GoogleNews-vectors"
      ]
    },
    {
      "cell_type": "markdown",
      "metadata": {
        "id": "9aLA2BHOsSig"
      },
      "source": [
        "## Modeling"
      ]
    },
    {
      "cell_type": "markdown",
      "metadata": {
        "id": "JdAaEOclsSig"
      },
      "source": [
        "<img src=\"https://raw.githubusercontent.com/DSKSD/DeepNLP-models-Pytorch/7fec64d72615933e8f4ea499c2dbaa42508f4017/images/08.cnn-for-text-architecture.png\">\n",
        "<center>borrowed image from http://www.aclweb.org/anthology/D14-1181</center>"
      ]
    },
    {
      "cell_type": "code",
      "execution_count": null,
      "metadata": {
        "collapsed": true,
        "id": "9b94ekcdsSig"
      },
      "outputs": [],
      "source": [
        "class  CNNClassifier(nn.Module):\n",
        "\n",
        "    def __init__(self, vocab_size, embedding_dim, output_size, kernel_dim=100, kernel_sizes=(3, 4, 5), dropout=0.5):\n",
        "        super(CNNClassifier,self).__init__()\n",
        "\n",
        "        self.embedding = nn.Embedding(vocab_size, embedding_dim)\n",
        "        self.convs = nn.ModuleList([nn.Conv2d(1, kernel_dim, (K, embedding_dim)) for K in kernel_sizes])\n",
        "\n",
        "        # kernal_size = (K,D)\n",
        "        self.dropout = nn.Dropout(dropout)\n",
        "        self.fc = nn.Linear(len(kernel_sizes) * kernel_dim, output_size)\n",
        "\n",
        "\n",
        "    def forward(self, inputs, is_training=False):\n",
        "        inputs = self.embedding(inputs).unsqueeze(1) # (B,1,T,D)\n",
        "        inputs = [F.relu(conv(inputs)).squeeze(3) for conv in self.convs] #[(B,Co,W), ...]*len(Ks)\n",
        "        inputs = [F.max_pool1d(i, i.size(2)).squeeze(2) for i in inputs] #[(B,Co), ...]*len(Ks)\n",
        "\n",
        "        concated = torch.cat(inputs, 1)\n",
        "\n",
        "        if is_training:\n",
        "            concated = self.dropout(concated) # (B,len(Ks)*Co)\n",
        "        out = self.fc(concated)\n",
        "        return F.log_softmax(out,1)"
      ]
    },
    {
      "cell_type": "markdown",
      "metadata": {
        "id": "-x4fA6S0sSig"
      },
      "source": [
        "## Train"
      ]
    },
    {
      "cell_type": "markdown",
      "metadata": {
        "id": "lSvSA_DnsSig"
      },
      "source": [
        "It takes for a while if you use just cpu."
      ]
    },
    {
      "cell_type": "code",
      "execution_count": null,
      "metadata": {
        "collapsed": true,
        "id": "YNCq1t5bsSig"
      },
      "outputs": [],
      "source": [
        "EPOCH = 5\n",
        "BATCH_SIZE = 50\n",
        "KERNEL_SIZES = [3,4,5]\n",
        "KERNEL_DIM = 100\n",
        "LR = 0.001"
      ]
    },
    {
      "cell_type": "code",
      "execution_count": null,
      "metadata": {
        "collapsed": true,
        "id": "DYc--pp3sSig"
      },
      "outputs": [],
      "source": [
        "model = CNNClassifier(len(word2index), 100, len(target2index), KERNEL_DIM, KERNEL_SIZES)\n",
        "\n",
        "if USE_CUDA:\n",
        "    model = model.cuda()\n",
        "\n",
        "loss_function = nn.CrossEntropyLoss()\n",
        "optimizer = optim.Adam(model.parameters(), lr=LR)"
      ]
    },
    {
      "cell_type": "code",
      "execution_count": null,
      "metadata": {
        "colab": {
          "base_uri": "https://localhost:8080/"
        },
        "id": "KFAXywdFsSig",
        "outputId": "cc7c0b61-2819-47f8-d0f6-e6712e9c2c71"
      },
      "outputs": [
        {
          "output_type": "stream",
          "name": "stdout",
          "text": [
            "[0/5] mean_loss : 2.11\n",
            "[1/5] mean_loss : 0.89\n",
            "[2/5] mean_loss : 0.57\n",
            "[3/5] mean_loss : 0.60\n",
            "[4/5] mean_loss : 0.20\n"
          ]
        }
      ],
      "source": [
        "for epoch in range(EPOCH):\n",
        "    losses = []\n",
        "    for i,batch in enumerate(getBatch(BATCH_SIZE, train_data)):\n",
        "        inputs,targets = pad_to_batch(batch)\n",
        "\n",
        "        model.zero_grad()\n",
        "        preds = model(inputs, True)\n",
        "\n",
        "        loss = loss_function(preds, targets)\n",
        "        losses.append(loss.item())\n",
        "        loss.backward()\n",
        "\n",
        "        #for param in model.parameters():\n",
        "        #    param.grad.data.clamp_(-3, 3)\n",
        "\n",
        "        optimizer.step()\n",
        "\n",
        "        if i % 100 == 0:\n",
        "            print(\"[%d/%d] mean_loss : %0.2f\" %(epoch, EPOCH, np.mean(losses)))\n",
        "            losses = []"
      ]
    },
    {
      "cell_type": "markdown",
      "metadata": {
        "id": "4ZQUfLpTsSig"
      },
      "source": [
        "## Test"
      ]
    },
    {
      "cell_type": "code",
      "execution_count": null,
      "metadata": {
        "collapsed": true,
        "id": "rJaF7AaLsSig"
      },
      "outputs": [],
      "source": [
        "accuracy = 0"
      ]
    },
    {
      "cell_type": "code",
      "execution_count": null,
      "metadata": {
        "colab": {
          "base_uri": "https://localhost:8080/"
        },
        "id": "mc6ZP_xosSil",
        "outputId": "b116301a-5543-4088-c46b-b6a7cf101660"
      },
      "outputs": [
        {
          "output_type": "stream",
          "name": "stdout",
          "text": [
            "79.3040293040293\n"
          ]
        }
      ],
      "source": [
        "for test in test_data:\n",
        "    if test[0].size(0) < 5:\n",
        "        x = torch.cat([test[0], Variable(LongTensor([word2index['<PAD>']] * (5 - test[0].size(0)))).view(1, -1)], 1)\n",
        "    pred = model(x).max(1)[1]\n",
        "    pred = pred.item()\n",
        "    target = test[1].data.tolist()[0][0]\n",
        "    if pred == target:\n",
        "        accuracy += 1\n",
        "\n",
        "print(accuracy/len(test_data) * 100)"
      ]
    },
    {
      "cell_type": "markdown",
      "metadata": {
        "collapsed": true,
        "id": "bjSYhRF8sSil"
      },
      "source": [
        "## Further topics"
      ]
    },
    {
      "cell_type": "markdown",
      "metadata": {
        "id": "3VnSWKF7sSil"
      },
      "source": [
        "* <a href=\"https://arxiv.org/pdf/1508.06615.pdf\">Character-Aware Neural Language Models</a>\n",
        "* <a href=\"https://papers.nips.cc/paper/5782-character-level-convolutional-networks-for-text-classification.pdf\">Character level CNN for text classification</a>"
      ]
    },
    {
      "cell_type": "markdown",
      "metadata": {
        "id": "pmXY1kqcsSil"
      },
      "source": [
        "## Suggested Reading"
      ]
    },
    {
      "cell_type": "markdown",
      "metadata": {
        "id": "pS7-bdyesSil"
      },
      "source": [
        "* https://blog.statsbot.co/text-classifier-algorithms-in-machine-learning-acc115293278\n",
        "* <a href=\"https://arxiv.org/pdf/1607.01759\">Bag of Tricks for Efficient Text Classification</a>\n",
        "* <a href=\"https://arxiv.org/pdf/1708.02657\">Which Encoding is the Best for Text Classification in Chinese, English, Japanese and Korean?</a>"
      ]
    },
    {
      "cell_type": "code",
      "execution_count": null,
      "metadata": {
        "collapsed": true,
        "id": "jGYva_j9sSil"
      },
      "outputs": [],
      "source": []
    }
  ],
  "metadata": {
    "kernelspec": {
      "display_name": "Python 3",
      "language": "python",
      "name": "python3"
    },
    "language_info": {
      "codemirror_mode": {
        "name": "ipython",
        "version": 3
      },
      "file_extension": ".py",
      "mimetype": "text/x-python",
      "name": "python",
      "nbconvert_exporter": "python",
      "pygments_lexer": "ipython3",
      "version": "3.5.2"
    },
    "colab": {
      "provenance": []
    }
  },
  "nbformat": 4,
  "nbformat_minor": 0
}