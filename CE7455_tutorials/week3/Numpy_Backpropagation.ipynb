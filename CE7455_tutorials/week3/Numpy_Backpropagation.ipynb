{
  "cells": [
    {
      "cell_type": "markdown",
      "metadata": {
        "id": "GU5lAxbP8N7b"
      },
      "source": [
        "# Multi-Layer Perceptron From Scratch with Numpy"
      ]
    },
    {
      "cell_type": "markdown",
      "metadata": {
        "id": "Dn4jDeFf8c8S"
      },
      "source": [
        "The MIT License (MIT)\n",
        "\n",
        "Copyright (c) 2016 Koki Saitoh\n",
        "\n",
        "Edited by Han Cheol Moon\n",
        "\n"
      ]
    },
    {
      "cell_type": "markdown",
      "metadata": {
        "id": "B1kigSv55uvv"
      },
      "source": [
        "## Introduction\n",
        "\n",
        "In this tutorial, we are going to learn how to implement a multi-layer perceptron (MLP) and train it.\n",
        "- MLP structure: Input-Hidden-Output\n",
        "- Non-linear activation function: Sigmoid activation\n",
        "- Optimizer: SGD\n",
        "- Loss function: Cross-Entropy"
      ]
    },
    {
      "cell_type": "markdown",
      "metadata": {
        "id": "jaIoUuYMvCHx"
      },
      "source": [
        "After this tutorial, you will understand\n",
        "1. Computational graph\n",
        "2. How to implement MLP and backpropagation"
      ]
    },
    {
      "cell_type": "markdown",
      "metadata": {
        "id": "pN9rp8U6K5lJ"
      },
      "source": [
        "## Backpropagation, Computational Graph, and Chain Rule\n",
        "\n",
        "- Derivative: measure of changes\n",
        "- Backpropagation: chain rule\n",
        "- Computational Graph: local computation\n"
      ]
    },
    {
      "cell_type": "markdown",
      "metadata": {
        "id": "MnuEyQpa8dMX"
      },
      "source": [
        "## Create Dataset\n",
        "- X: 300x2\n",
        "- Y: 3\n"
      ]
    },
    {
      "cell_type": "code",
      "execution_count": 1,
      "metadata": {
        "id": "OuPlMmZw8NSO"
      },
      "outputs": [],
      "source": [
        "import numpy as np\n",
        "\n",
        "\n",
        "def load_data(seed=1984):\n",
        "    np.random.seed(seed)\n",
        "    N = 100\n",
        "    DIM = 2\n",
        "    CLS_NUM = 3\n",
        "\n",
        "    x = np.zeros((N*CLS_NUM, DIM))\n",
        "    t = np.zeros((N*CLS_NUM, CLS_NUM), dtype=np.int)\n",
        "\n",
        "    for j in range(CLS_NUM):\n",
        "        for i in range(N): # N*j, N*(j+1)):\n",
        "            rate = i / N\n",
        "            radius = 1.0*rate\n",
        "            theta = j*4.0 + 4.0*rate + np.random.randn()*0.2\n",
        "\n",
        "            ix = N*j + i\n",
        "            x[ix] = np.array([radius*np.sin(theta),\n",
        "                              radius*np.cos(theta)]).flatten()\n",
        "            t[ix, j] = 1\n",
        "\n",
        "    return x, t"
      ]
    },
    {
      "cell_type": "code",
      "execution_count": null,
      "metadata": {
        "colab": {
          "base_uri": "https://localhost:8080/",
          "height": 301
        },
        "id": "SRmxP3JQ-LzY",
        "outputId": "b95c2b06-6c54-4545-aedc-f3df1388367e"
      },
      "outputs": [
        {
          "name": "stdout",
          "output_type": "stream",
          "text": [
            "x: (300, 2)\n",
            "t: (300, 3)\n"
          ]
        },
        {
          "data": {
            "image/png": "[encoded data removed]",
            "text/plain": [
              "<Figure size 432x288 with 1 Axes>"
            ]
          },
          "metadata": {
            "needs_background": "light",
            "tags": []
          },
          "output_type": "display_data"
        }
      ],
      "source": [
        "import matplotlib.pyplot as plt\n",
        "\n",
        "x, t = load_data()\n",
        "print(f\"x: {x.shape}\")\n",
        "print(f\"t: {t.shape}\")\n",
        "\n",
        "plt.scatter(x[:,0], x[:,1], color=t)\n",
        "plt.show()"
      ]
    },
    {
      "cell_type": "markdown",
      "metadata": {
        "id": "_pEVH80p9A_j"
      },
      "source": [
        "## Optimizer\n",
        "\n",
        "- Stochastic Gradient Descent (SGD)\n",
        "- Gradient clipping\n"
      ]
    },
    {
      "cell_type": "code",
      "execution_count": null,
      "metadata": {
        "id": "JxyO_eA29ANb"
      },
      "outputs": [],
      "source": [
        "class SGD():\n",
        "    '''\n",
        "    - Stochastic Gradient Descent\n",
        "    '''\n",
        "    def __init__(self, lr=0.01):\n",
        "        self.lr = lr\n",
        "\n",
        "    def update(self, params, grads):\n",
        "        for i in range(len(params)):\n",
        "            params[i] -= self.lr * grads[i]\n",
        "\n",
        "def clip_grads(grads, max_norm):\n",
        "    total_norm = 0\n",
        "    for grad in grads:\n",
        "        total_norm += np.sum(grad ** 2)\n",
        "    total_norm = np.sqrt(total_norm)\n",
        "\n",
        "    rate = max_norm / (total_norm + 1e-6)\n",
        "    if rate < 1:\n",
        "        for grad in grads:\n",
        "            grad *= rate"
      ]
    },
    {
      "cell_type": "markdown",
      "metadata": {
        "id": "cIxR_fpM8Zsk"
      },
      "source": [
        "## Model Class\n",
        "\n",
        "- Define model class\n",
        "- Activation functions\n",
        "- Softmax\n",
        "- Cross-Entropy"
      ]
    },
    {
      "cell_type": "code",
      "execution_count": null,
      "metadata": {
        "id": "8KAzJ8dm8NoH"
      },
      "outputs": [],
      "source": [
        "class TwoLayerNet():\n",
        "    def __init__(self, input_size, hidden_size, output_size):\n",
        "\n",
        "        I, H, O = input_size, hidden_size, output_size\n",
        "\n",
        "        # Define Network Paramers\n",
        "        W1 = np.random.randn(I, H)*0.01 # (InputFeature x HiddenNodes): 2x10\n",
        "        b1 = np.zeros(H)\n",
        "\n",
        "        W2 = np.random.randn(H, O)*0.01 # (HiddenNodes x OutputDim): 10x3\n",
        "        b2 = np.zeros(O)\n",
        "\n",
        "        # Build Network Layers\n",
        "        # Two hidden layers\n",
        "        self.layers = [\n",
        "            Affine(W1, b1), # Hidden layer\n",
        "            Sigmoid(),\n",
        "            Affine(W2, b2), # Output layer (FC Layer in DL)\n",
        "            ]\n",
        "\n",
        "\n",
        "        # Softmax with Loss\n",
        "        self.loss_layer = SoftmaxWithLoss()\n",
        "\n",
        "        self.params = []\n",
        "        self.grads = []\n",
        "        for layer in self.layers:\n",
        "            self.params += layer.params\n",
        "            self.grads += layer.grads\n",
        "\n",
        "    def predict(self, x):\n",
        "        for layer in self.layers:\n",
        "            x = layer.forward(x)\n",
        "        return x\n",
        "\n",
        "    def forward(self, x, t):\n",
        "        score = self.predict(x)\n",
        "        loss = self.loss_layer.forward(score, t)\n",
        "        return loss\n",
        "\n",
        "    def backward(self, dout=1):\n",
        "        dout = self.loss_layer.backward(dout)\n",
        "        for i, layer in enumerate(reversed(self.layers)): # Reverse Order: Affine2, Sigmoid, Affine1\n",
        "            dout = layer.backward(dout)\n",
        "        return dout\n",
        "\n",
        "class Affine:\n",
        "    def __init__(self, W, b):\n",
        "        self.params = [W, b]\n",
        "        self.grads = [np.zeros_like(W), np.zeros_like(b)]\n",
        "        self.x = None\n",
        "\n",
        "    def forward(self, x):\n",
        "        W, b = self.params\n",
        "        out = np.dot(x, W) + b\n",
        "        self.x = x\n",
        "        return out\n",
        "\n",
        "    def backward(self, dout):\n",
        "        #pdb.set_trace()\n",
        "        W, b = self.params\n",
        "        dx = np.dot(dout, W.T)\n",
        "        dW = np.dot(self.x.T, dout)\n",
        "        db = np.sum(dout, axis=0)\n",
        "\n",
        "        self.grads[0][...] = dW\n",
        "        self.grads[1][...] = db\n",
        "        return dx\n",
        "\n",
        "\n",
        "class SoftmaxWithLoss:\n",
        "    def __init__(self):\n",
        "        self.params, self.grads = [], []\n",
        "        self.y = None  # softmax output\n",
        "        self.t = None  # target label\n",
        "\n",
        "    def forward(self, x, t):\n",
        "        self.t = t\n",
        "        self.y = softmax(x)\n",
        "\n",
        "        # If the target is one-hot then change into idx\n",
        "        if self.t.size == self.y.size:\n",
        "            self.t = self.t.argmax(axis=1)\n",
        "\n",
        "        loss = cross_entropy_loss(self.y, self.t)\n",
        "        return loss, self.y\n",
        "\n",
        "    def backward(self, dout=1):\n",
        "        batch_size = self.t.shape[0]\n",
        "\n",
        "        dx = self.y.copy()\n",
        "        dx[np.arange(batch_size), self.t] -= 1\n",
        "        dx *= dout\n",
        "        dx = dx / batch_size\n",
        "\n",
        "        return dx\n",
        "\n",
        "def softmax(x):\n",
        "    if x.ndim == 2:\n",
        "        x = x - x.max(axis=1, keepdims=True)\n",
        "        x = np.exp(x)\n",
        "        x /= x.sum(axis=1, keepdims=True)\n",
        "    elif x.ndim == 1:\n",
        "        x = x - np.max(x) # For numerical stability\n",
        "        x = np.exp(x) / np.sum(np.exp(x))\n",
        "\n",
        "    return x\n",
        "\n",
        "\n",
        "def cross_entropy_loss(y, t):\n",
        "    if y.ndim == 1:\n",
        "        t = t.reshape(1, t.size)\n",
        "        y = y.reshape(1, y.size)\n",
        "\n",
        "    # One-hot 2 Index\n",
        "    if t.size == y.size:\n",
        "        t = t.argmax(axis=1)\n",
        "\n",
        "    batch_size = y.shape[0]\n",
        "\n",
        "    return -np.sum(np.log(y[np.arange(batch_size), t] + 1e-7)) / batch_size\n",
        "\n",
        "class Sigmoid:\n",
        "    def __init__(self):\n",
        "        self.params, self.grads = [], []\n",
        "        self.out = None\n",
        "\n",
        "    def forward(self, x):\n",
        "        out = 1 / (1 + np.exp(-x))\n",
        "        self.out = out\n",
        "        return out\n",
        "\n",
        "    def backward(self, dout):\n",
        "        dx = dout * (1.0 - self.out) * self.out\n",
        "        return dx\n",
        "\n",
        "class ReLU:\n",
        "    def __init__(self):\n",
        "        self.mask = None\n",
        "\n",
        "    def forward(self, x):\n",
        "        self.mask = (x <= 0)\n",
        "        out = x.copy()\n",
        "        out[self.mask] = 0\n",
        "\n",
        "        return out\n",
        "\n",
        "    def backward(self, dout):\n",
        "        dout[self.mask] = 0\n",
        "        dx = dout\n",
        "\n",
        "        return dx"
      ]
    },
    {
      "cell_type": "markdown",
      "metadata": {
        "id": "WhHak-J48wvS"
      },
      "source": [
        "# Train Model"
      ]
    },
    {
      "cell_type": "code",
      "execution_count": null,
      "metadata": {
        "colab": {
          "base_uri": "https://localhost:8080/",
          "height": 1000
        },
        "id": "NN09uA9x8t3m",
        "outputId": "1b2b672a-a7b6-4a9a-f720-6cab3b1ccfe5"
      },
      "outputs": [
        {
          "name": "stdout",
          "output_type": "stream",
          "text": [
            "Epoch: 0 || Iter: 9/10 || Accuracy: 0.27 || AverageLoss: 1.1256 || Elapsed: 0.000379\n",
            "Epoch: 1 || Iter: 9/10 || Accuracy: 0.33 || AverageLoss: 1.1255 || Elapsed: 0.000141\n",
            "Epoch: 2 || Iter: 9/10 || Accuracy: 0.30 || AverageLoss: 1.1163 || Elapsed: 0.000135\n",
            "Epoch: 3 || Iter: 9/10 || Accuracy: 0.50 || AverageLoss: 1.1163 || Elapsed: 0.000135\n",
            "Epoch: 4 || Iter: 9/10 || Accuracy: 0.43 || AverageLoss: 1.1123 || Elapsed: 0.000134\n",
            "Epoch: 5 || Iter: 9/10 || Accuracy: 0.17 || AverageLoss: 1.1385 || Elapsed: 0.000189\n",
            "Epoch: 6 || Iter: 9/10 || Accuracy: 0.40 || AverageLoss: 1.1591 || Elapsed: 0.000177\n",
            "Epoch: 7 || Iter: 9/10 || Accuracy: 0.37 || AverageLoss: 1.1086 || Elapsed: 0.000163\n",
            "Epoch: 8 || Iter: 9/10 || Accuracy: 0.23 || AverageLoss: 1.1173 || Elapsed: 0.000133\n",
            "Epoch: 9 || Iter: 9/10 || Accuracy: 0.30 || AverageLoss: 1.1288 || Elapsed: 0.000134\n",
            "Epoch: 10 || Iter: 9/10 || Accuracy: 0.20 || AverageLoss: 1.1168 || Elapsed: 0.000162\n",
            "Epoch: 11 || Iter: 9/10 || Accuracy: 0.47 || AverageLoss: 1.1083 || Elapsed: 0.000133\n",
            "Epoch: 12 || Iter: 9/10 || Accuracy: 0.50 || AverageLoss: 1.0876 || Elapsed: 0.000132\n",
            "Epoch: 13 || Iter: 9/10 || Accuracy: 0.40 || AverageLoss: 1.0767 || Elapsed: 0.000143\n",
            "Epoch: 14 || Iter: 9/10 || Accuracy: 0.47 || AverageLoss: 1.0442 || Elapsed: 0.000134\n",
            "Epoch: 15 || Iter: 9/10 || Accuracy: 0.47 || AverageLoss: 1.0346 || Elapsed: 0.000134\n",
            "Epoch: 16 || Iter: 9/10 || Accuracy: 0.47 || AverageLoss: 0.9573 || Elapsed: 0.000144\n",
            "Epoch: 17 || Iter: 9/10 || Accuracy: 0.60 || AverageLoss: 0.9184 || Elapsed: 0.000133\n",
            "Epoch: 18 || Iter: 9/10 || Accuracy: 0.47 || AverageLoss: 0.9241 || Elapsed: 0.000134\n",
            "Epoch: 19 || Iter: 9/10 || Accuracy: 0.63 || AverageLoss: 0.8685 || Elapsed: 0.000149\n",
            "Epoch: 20 || Iter: 9/10 || Accuracy: 0.67 || AverageLoss: 0.8494 || Elapsed: 0.000133\n",
            "Epoch: 21 || Iter: 9/10 || Accuracy: 0.60 || AverageLoss: 0.8172 || Elapsed: 0.000154\n",
            "Epoch: 22 || Iter: 9/10 || Accuracy: 0.73 || AverageLoss: 0.7924 || Elapsed: 0.000136\n",
            "Epoch: 23 || Iter: 9/10 || Accuracy: 0.43 || AverageLoss: 0.7827 || Elapsed: 0.000143\n",
            "Epoch: 24 || Iter: 9/10 || Accuracy: 0.70 || AverageLoss: 0.8235 || Elapsed: 0.000135\n",
            "Epoch: 25 || Iter: 9/10 || Accuracy: 0.50 || AverageLoss: 0.7755 || Elapsed: 0.000133\n",
            "Epoch: 26 || Iter: 9/10 || Accuracy: 0.67 || AverageLoss: 0.7558 || Elapsed: 0.000132\n",
            "Epoch: 27 || Iter: 9/10 || Accuracy: 0.53 || AverageLoss: 0.7645 || Elapsed: 0.000162\n",
            "Epoch: 28 || Iter: 9/10 || Accuracy: 0.53 || AverageLoss: 0.7835 || Elapsed: 0.000586\n",
            "Epoch: 29 || Iter: 9/10 || Accuracy: 0.47 || AverageLoss: 0.7508 || Elapsed: 0.000148\n",
            "Epoch: 30 || Iter: 9/10 || Accuracy: 0.60 || AverageLoss: 0.7773 || Elapsed: 0.000399\n",
            "Epoch: 31 || Iter: 9/10 || Accuracy: 0.47 || AverageLoss: 0.7651 || Elapsed: 0.000134\n",
            "Epoch: 32 || Iter: 9/10 || Accuracy: 0.60 || AverageLoss: 0.7728 || Elapsed: 0.000138\n",
            "Epoch: 33 || Iter: 9/10 || Accuracy: 0.50 || AverageLoss: 0.7819 || Elapsed: 0.000134\n",
            "Epoch: 34 || Iter: 9/10 || Accuracy: 0.60 || AverageLoss: 0.7480 || Elapsed: 0.000135\n",
            "Epoch: 35 || Iter: 9/10 || Accuracy: 0.53 || AverageLoss: 0.7450 || Elapsed: 0.000144\n",
            "Epoch: 36 || Iter: 9/10 || Accuracy: 0.57 || AverageLoss: 0.7560 || Elapsed: 0.000149\n",
            "Epoch: 37 || Iter: 9/10 || Accuracy: 0.70 || AverageLoss: 0.7621 || Elapsed: 0.000137\n",
            "Epoch: 38 || Iter: 9/10 || Accuracy: 0.80 || AverageLoss: 0.7309 || Elapsed: 0.000143\n",
            "Epoch: 39 || Iter: 9/10 || Accuracy: 0.63 || AverageLoss: 0.7530 || Elapsed: 0.000135\n",
            "Epoch: 40 || Iter: 9/10 || Accuracy: 0.60 || AverageLoss: 0.7598 || Elapsed: 0.000137\n",
            "Epoch: 41 || Iter: 9/10 || Accuracy: 0.60 || AverageLoss: 0.7594 || Elapsed: 0.000143\n",
            "Epoch: 42 || Iter: 9/10 || Accuracy: 0.53 || AverageLoss: 0.7609 || Elapsed: 0.000151\n",
            "Epoch: 43 || Iter: 9/10 || Accuracy: 0.43 || AverageLoss: 0.7385 || Elapsed: 0.000135\n",
            "Epoch: 44 || Iter: 9/10 || Accuracy: 0.50 || AverageLoss: 0.7483 || Elapsed: 0.000135\n",
            "Epoch: 45 || Iter: 9/10 || Accuracy: 0.57 || AverageLoss: 0.7322 || Elapsed: 0.000135\n",
            "Epoch: 46 || Iter: 9/10 || Accuracy: 0.50 || AverageLoss: 0.7227 || Elapsed: 0.000133\n",
            "Epoch: 47 || Iter: 9/10 || Accuracy: 0.60 || AverageLoss: 0.7329 || Elapsed: 0.000134\n",
            "Epoch: 48 || Iter: 9/10 || Accuracy: 0.60 || AverageLoss: 0.7229 || Elapsed: 0.000145\n",
            "Epoch: 49 || Iter: 9/10 || Accuracy: 0.70 || AverageLoss: 0.7225 || Elapsed: 0.000134\n",
            "Epoch: 50 || Iter: 9/10 || Accuracy: 0.43 || AverageLoss: 0.7151 || Elapsed: 0.000134\n",
            "Epoch: 51 || Iter: 9/10 || Accuracy: 0.70 || AverageLoss: 0.7195 || Elapsed: 0.000133\n",
            "Epoch: 52 || Iter: 9/10 || Accuracy: 0.50 || AverageLoss: 0.7375 || Elapsed: 0.000140\n",
            "Epoch: 53 || Iter: 9/10 || Accuracy: 0.63 || AverageLoss: 0.7362 || Elapsed: 0.000142\n",
            "Epoch: 54 || Iter: 9/10 || Accuracy: 0.63 || AverageLoss: 0.7225 || Elapsed: 0.000152\n",
            "Epoch: 55 || Iter: 9/10 || Accuracy: 0.67 || AverageLoss: 0.7183 || Elapsed: 0.000133\n",
            "Epoch: 56 || Iter: 9/10 || Accuracy: 0.53 || AverageLoss: 0.7075 || Elapsed: 0.000134\n",
            "Epoch: 57 || Iter: 9/10 || Accuracy: 0.63 || AverageLoss: 0.7004 || Elapsed: 0.000135\n",
            "Epoch: 58 || Iter: 9/10 || Accuracy: 0.60 || AverageLoss: 0.7173 || Elapsed: 0.000135\n",
            "Epoch: 59 || Iter: 9/10 || Accuracy: 0.63 || AverageLoss: 0.7014 || Elapsed: 0.000140\n",
            "Epoch: 60 || Iter: 9/10 || Accuracy: 0.57 || AverageLoss: 0.7140 || Elapsed: 0.000151\n",
            "Epoch: 61 || Iter: 9/10 || Accuracy: 0.73 || AverageLoss: 0.7158 || Elapsed: 0.000132\n",
            "Epoch: 62 || Iter: 9/10 || Accuracy: 0.57 || AverageLoss: 0.7024 || Elapsed: 0.000133\n",
            "Epoch: 63 || Iter: 9/10 || Accuracy: 0.60 || AverageLoss: 0.7148 || Elapsed: 0.000135\n",
            "Epoch: 64 || Iter: 9/10 || Accuracy: 0.77 || AverageLoss: 0.7258 || Elapsed: 0.000135\n",
            "Epoch: 65 || Iter: 9/10 || Accuracy: 0.57 || AverageLoss: 0.6992 || Elapsed: 0.000144\n",
            "Epoch: 66 || Iter: 9/10 || Accuracy: 0.77 || AverageLoss: 0.7149 || Elapsed: 0.000146\n",
            "Epoch: 67 || Iter: 9/10 || Accuracy: 0.47 || AverageLoss: 0.6924 || Elapsed: 0.000134\n",
            "Epoch: 68 || Iter: 9/10 || Accuracy: 0.70 || AverageLoss: 0.6951 || Elapsed: 0.000138\n",
            "Epoch: 69 || Iter: 9/10 || Accuracy: 0.70 || AverageLoss: 0.7052 || Elapsed: 0.000135\n",
            "Epoch: 70 || Iter: 9/10 || Accuracy: 0.70 || AverageLoss: 0.6819 || Elapsed: 0.000137\n",
            "Epoch: 71 || Iter: 9/10 || Accuracy: 0.60 || AverageLoss: 0.6931 || Elapsed: 0.000177\n",
            "Epoch: 72 || Iter: 9/10 || Accuracy: 0.53 || AverageLoss: 0.6679 || Elapsed: 0.000134\n",
            "Epoch: 73 || Iter: 9/10 || Accuracy: 0.43 || AverageLoss: 0.6796 || Elapsed: 0.000134\n",
            "Epoch: 74 || Iter: 9/10 || Accuracy: 0.60 || AverageLoss: 0.6697 || Elapsed: 0.000134\n",
            "Epoch: 75 || Iter: 9/10 || Accuracy: 0.57 || AverageLoss: 0.6601 || Elapsed: 0.000133\n",
            "Epoch: 76 || Iter: 9/10 || Accuracy: 0.57 || AverageLoss: 0.6949 || Elapsed: 0.000143\n",
            "Epoch: 77 || Iter: 9/10 || Accuracy: 0.77 || AverageLoss: 0.6449 || Elapsed: 0.000152\n",
            "Epoch: 78 || Iter: 9/10 || Accuracy: 0.67 || AverageLoss: 0.6798 || Elapsed: 0.000135\n",
            "Epoch: 79 || Iter: 9/10 || Accuracy: 0.67 || AverageLoss: 0.6390 || Elapsed: 0.000136\n",
            "Epoch: 80 || Iter: 9/10 || Accuracy: 0.80 || AverageLoss: 0.6352 || Elapsed: 0.000133\n",
            "Epoch: 81 || Iter: 9/10 || Accuracy: 0.57 || AverageLoss: 0.6642 || Elapsed: 0.000146\n",
            "Epoch: 82 || Iter: 9/10 || Accuracy: 0.67 || AverageLoss: 0.6195 || Elapsed: 0.000152\n",
            "Epoch: 83 || Iter: 9/10 || Accuracy: 0.77 || AverageLoss: 0.6230 || Elapsed: 0.000134\n",
            "Epoch: 84 || Iter: 9/10 || Accuracy: 0.67 || AverageLoss: 0.6125 || Elapsed: 0.000134\n",
            "Epoch: 85 || Iter: 9/10 || Accuracy: 0.77 || AverageLoss: 0.5972 || Elapsed: 0.000134\n",
            "Epoch: 86 || Iter: 9/10 || Accuracy: 0.63 || AverageLoss: 0.5988 || Elapsed: 0.000135\n",
            "Epoch: 87 || Iter: 9/10 || Accuracy: 0.77 || AverageLoss: 0.6084 || Elapsed: 0.000153\n",
            "Epoch: 88 || Iter: 9/10 || Accuracy: 0.77 || AverageLoss: 0.5881 || Elapsed: 0.000136\n",
            "Epoch: 89 || Iter: 9/10 || Accuracy: 0.67 || AverageLoss: 0.5773 || Elapsed: 0.000135\n",
            "Epoch: 90 || Iter: 9/10 || Accuracy: 0.73 || AverageLoss: 0.5574 || Elapsed: 0.000133\n",
            "Epoch: 91 || Iter: 9/10 || Accuracy: 0.73 || AverageLoss: 0.5605 || Elapsed: 0.000132\n",
            "Epoch: 92 || Iter: 9/10 || Accuracy: 0.67 || AverageLoss: 0.5449 || Elapsed: 0.000146\n",
            "Epoch: 93 || Iter: 9/10 || Accuracy: 0.73 || AverageLoss: 0.5286 || Elapsed: 0.000133\n",
            "Epoch: 94 || Iter: 9/10 || Accuracy: 0.73 || AverageLoss: 0.5299 || Elapsed: 0.000134\n",
            "Epoch: 95 || Iter: 9/10 || Accuracy: 0.77 || AverageLoss: 0.5163 || Elapsed: 0.000134\n",
            "Epoch: 96 || Iter: 9/10 || Accuracy: 0.87 || AverageLoss: 0.5124 || Elapsed: 0.000133\n",
            "Epoch: 97 || Iter: 9/10 || Accuracy: 0.63 || AverageLoss: 0.5016 || Elapsed: 0.000151\n",
            "Epoch: 98 || Iter: 9/10 || Accuracy: 0.83 || AverageLoss: 0.4845 || Elapsed: 0.000151\n",
            "Epoch: 99 || Iter: 9/10 || Accuracy: 0.77 || AverageLoss: 0.4800 || Elapsed: 0.000132\n",
            "Epoch: 100 || Iter: 9/10 || Accuracy: 0.80 || AverageLoss: 0.4610 || Elapsed: 0.000133\n",
            "Epoch: 101 || Iter: 9/10 || Accuracy: 0.70 || AverageLoss: 0.4540 || Elapsed: 0.000134\n",
            "Epoch: 102 || Iter: 9/10 || Accuracy: 0.73 || AverageLoss: 0.4536 || Elapsed: 0.000138\n",
            "Epoch: 103 || Iter: 9/10 || Accuracy: 0.87 || AverageLoss: 0.4430 || Elapsed: 0.000145\n",
            "Epoch: 104 || Iter: 9/10 || Accuracy: 0.77 || AverageLoss: 0.4362 || Elapsed: 0.000133\n",
            "Epoch: 105 || Iter: 9/10 || Accuracy: 0.87 || AverageLoss: 0.4105 || Elapsed: 0.000133\n",
            "Epoch: 106 || Iter: 9/10 || Accuracy: 0.93 || AverageLoss: 0.4032 || Elapsed: 0.000133\n",
            "Epoch: 107 || Iter: 9/10 || Accuracy: 0.77 || AverageLoss: 0.4076 || Elapsed: 0.000132\n",
            "Epoch: 108 || Iter: 9/10 || Accuracy: 0.90 || AverageLoss: 0.4036 || Elapsed: 0.000135\n",
            "Epoch: 109 || Iter: 9/10 || Accuracy: 0.83 || AverageLoss: 0.3995 || Elapsed: 0.000138\n",
            "Epoch: 110 || Iter: 9/10 || Accuracy: 0.83 || AverageLoss: 0.3792 || Elapsed: 0.000142\n",
            "Epoch: 111 || Iter: 9/10 || Accuracy: 0.80 || AverageLoss: 0.3750 || Elapsed: 0.000133\n",
            "Epoch: 112 || Iter: 9/10 || Accuracy: 0.93 || AverageLoss: 0.3623 || Elapsed: 0.000135\n",
            "Epoch: 113 || Iter: 9/10 || Accuracy: 0.83 || AverageLoss: 0.3676 || Elapsed: 0.000136\n",
            "Epoch: 114 || Iter: 9/10 || Accuracy: 0.93 || AverageLoss: 0.3462 || Elapsed: 0.000136\n",
            "Epoch: 115 || Iter: 9/10 || Accuracy: 0.90 || AverageLoss: 0.3449 || Elapsed: 0.000136\n",
            "Epoch: 116 || Iter: 9/10 || Accuracy: 0.90 || AverageLoss: 0.3353 || Elapsed: 0.000134\n",
            "Epoch: 117 || Iter: 9/10 || Accuracy: 0.73 || AverageLoss: 0.3381 || Elapsed: 0.000134\n",
            "Epoch: 118 || Iter: 9/10 || Accuracy: 0.80 || AverageLoss: 0.3283 || Elapsed: 0.000134\n",
            "Epoch: 119 || Iter: 9/10 || Accuracy: 0.83 || AverageLoss: 0.3352 || Elapsed: 0.000135\n",
            "Epoch: 120 || Iter: 9/10 || Accuracy: 0.87 || AverageLoss: 0.3158 || Elapsed: 0.000141\n",
            "Epoch: 121 || Iter: 9/10 || Accuracy: 0.90 || AverageLoss: 0.3174 || Elapsed: 0.000148\n",
            "Epoch: 122 || Iter: 9/10 || Accuracy: 0.87 || AverageLoss: 0.3056 || Elapsed: 0.000134\n",
            "Epoch: 123 || Iter: 9/10 || Accuracy: 0.90 || AverageLoss: 0.3131 || Elapsed: 0.000135\n",
            "Epoch: 124 || Iter: 9/10 || Accuracy: 0.93 || AverageLoss: 0.3002 || Elapsed: 0.000135\n",
            "Epoch: 125 || Iter: 9/10 || Accuracy: 0.90 || AverageLoss: 0.2987 || Elapsed: 0.000134\n",
            "Epoch: 126 || Iter: 9/10 || Accuracy: 0.80 || AverageLoss: 0.2838 || Elapsed: 0.000138\n",
            "Epoch: 127 || Iter: 9/10 || Accuracy: 0.90 || AverageLoss: 0.2812 || Elapsed: 0.000145\n",
            "Epoch: 128 || Iter: 9/10 || Accuracy: 0.93 || AverageLoss: 0.2818 || Elapsed: 0.000133\n",
            "Epoch: 129 || Iter: 9/10 || Accuracy: 0.90 || AverageLoss: 0.2777 || Elapsed: 0.000134\n",
            "Epoch: 130 || Iter: 9/10 || Accuracy: 0.97 || AverageLoss: 0.2724 || Elapsed: 0.000134\n",
            "Epoch: 131 || Iter: 9/10 || Accuracy: 0.83 || AverageLoss: 0.2671 || Elapsed: 0.000133\n",
            "Epoch: 132 || Iter: 9/10 || Accuracy: 0.83 || AverageLoss: 0.2709 || Elapsed: 0.000143\n",
            "Epoch: 133 || Iter: 9/10 || Accuracy: 0.90 || AverageLoss: 0.2706 || Elapsed: 0.000152\n",
            "Epoch: 134 || Iter: 9/10 || Accuracy: 0.97 || AverageLoss: 0.2703 || Elapsed: 0.000133\n",
            "Epoch: 135 || Iter: 9/10 || Accuracy: 0.93 || AverageLoss: 0.2644 || Elapsed: 0.000136\n",
            "Epoch: 136 || Iter: 9/10 || Accuracy: 0.90 || AverageLoss: 0.2638 || Elapsed: 0.000137\n",
            "Epoch: 137 || Iter: 9/10 || Accuracy: 0.97 || AverageLoss: 0.2561 || Elapsed: 0.000141\n",
            "Epoch: 138 || Iter: 9/10 || Accuracy: 0.97 || AverageLoss: 0.2522 || Elapsed: 0.000135\n",
            "Epoch: 139 || Iter: 9/10 || Accuracy: 0.83 || AverageLoss: 0.2429 || Elapsed: 0.000137\n",
            "Epoch: 140 || Iter: 9/10 || Accuracy: 0.97 || AverageLoss: 0.2395 || Elapsed: 0.000136\n",
            "Epoch: 141 || Iter: 9/10 || Accuracy: 0.90 || AverageLoss: 0.2454 || Elapsed: 0.000151\n",
            "Epoch: 142 || Iter: 9/10 || Accuracy: 0.90 || AverageLoss: 0.2367 || Elapsed: 0.000136\n",
            "Epoch: 143 || Iter: 9/10 || Accuracy: 0.90 || AverageLoss: 0.2403 || Elapsed: 0.000143\n",
            "Epoch: 144 || Iter: 9/10 || Accuracy: 1.00 || AverageLoss: 0.2336 || Elapsed: 0.000133\n",
            "Epoch: 145 || Iter: 9/10 || Accuracy: 0.90 || AverageLoss: 0.2365 || Elapsed: 0.000133\n",
            "Epoch: 146 || Iter: 9/10 || Accuracy: 0.93 || AverageLoss: 0.2303 || Elapsed: 0.000138\n",
            "Epoch: 147 || Iter: 9/10 || Accuracy: 0.90 || AverageLoss: 0.2293 || Elapsed: 0.000150\n",
            "Epoch: 148 || Iter: 9/10 || Accuracy: 0.97 || AverageLoss: 0.2240 || Elapsed: 0.000134\n",
            "Epoch: 149 || Iter: 9/10 || Accuracy: 0.90 || AverageLoss: 0.2239 || Elapsed: 0.000142\n",
            "Epoch: 150 || Iter: 9/10 || Accuracy: 0.93 || AverageLoss: 0.2231 || Elapsed: 0.000133\n",
            "Epoch: 151 || Iter: 9/10 || Accuracy: 0.97 || AverageLoss: 0.2226 || Elapsed: 0.000135\n",
            "Epoch: 152 || Iter: 9/10 || Accuracy: 0.90 || AverageLoss: 0.2170 || Elapsed: 0.000136\n",
            "Epoch: 153 || Iter: 9/10 || Accuracy: 0.90 || AverageLoss: 0.2176 || Elapsed: 0.000151\n",
            "Epoch: 154 || Iter: 9/10 || Accuracy: 0.97 || AverageLoss: 0.2151 || Elapsed: 0.000136\n",
            "Epoch: 155 || Iter: 9/10 || Accuracy: 0.90 || AverageLoss: 0.2084 || Elapsed: 0.000142\n",
            "Epoch: 156 || Iter: 9/10 || Accuracy: 0.83 || AverageLoss: 0.2091 || Elapsed: 0.000133\n",
            "Epoch: 157 || Iter: 9/10 || Accuracy: 0.93 || AverageLoss: 0.2048 || Elapsed: 0.000136\n",
            "Epoch: 158 || Iter: 9/10 || Accuracy: 0.90 || AverageLoss: 0.2086 || Elapsed: 0.000136\n",
            "Epoch: 159 || Iter: 9/10 || Accuracy: 0.97 || AverageLoss: 0.1982 || Elapsed: 0.000147\n",
            "Epoch: 160 || Iter: 9/10 || Accuracy: 0.83 || AverageLoss: 0.2044 || Elapsed: 0.000134\n",
            "Epoch: 161 || Iter: 9/10 || Accuracy: 0.97 || AverageLoss: 0.1972 || Elapsed: 0.000142\n",
            "Epoch: 162 || Iter: 9/10 || Accuracy: 0.93 || AverageLoss: 0.2120 || Elapsed: 0.000134\n",
            "Epoch: 163 || Iter: 9/10 || Accuracy: 0.93 || AverageLoss: 0.1999 || Elapsed: 0.000136\n",
            "Epoch: 164 || Iter: 9/10 || Accuracy: 0.97 || AverageLoss: 0.1967 || Elapsed: 0.000135\n",
            "Epoch: 165 || Iter: 9/10 || Accuracy: 0.97 || AverageLoss: 0.1949 || Elapsed: 0.000165\n",
            "Epoch: 166 || Iter: 9/10 || Accuracy: 1.00 || AverageLoss: 0.1886 || Elapsed: 0.000132\n",
            "Epoch: 167 || Iter: 9/10 || Accuracy: 0.97 || AverageLoss: 0.1871 || Elapsed: 0.000136\n",
            "Epoch: 168 || Iter: 9/10 || Accuracy: 0.90 || AverageLoss: 0.1859 || Elapsed: 0.000248\n",
            "Epoch: 169 || Iter: 9/10 || Accuracy: 1.00 || AverageLoss: 0.1884 || Elapsed: 0.000167\n",
            "Epoch: 170 || Iter: 9/10 || Accuracy: 0.83 || AverageLoss: 0.1900 || Elapsed: 0.000154\n",
            "Epoch: 171 || Iter: 9/10 || Accuracy: 0.97 || AverageLoss: 0.1827 || Elapsed: 0.000134\n",
            "Epoch: 172 || Iter: 9/10 || Accuracy: 0.93 || AverageLoss: 0.1844 || Elapsed: 0.000138\n",
            "Epoch: 173 || Iter: 9/10 || Accuracy: 0.97 || AverageLoss: 0.1833 || Elapsed: 0.000148\n",
            "Epoch: 174 || Iter: 9/10 || Accuracy: 0.97 || AverageLoss: 0.1802 || Elapsed: 0.000134\n",
            "Epoch: 175 || Iter: 9/10 || Accuracy: 1.00 || AverageLoss: 0.1751 || Elapsed: 0.000140\n",
            "Epoch: 176 || Iter: 9/10 || Accuracy: 1.00 || AverageLoss: 0.1777 || Elapsed: 0.000133\n",
            "Epoch: 177 || Iter: 9/10 || Accuracy: 0.97 || AverageLoss: 0.1767 || Elapsed: 0.000134\n",
            "Epoch: 178 || Iter: 9/10 || Accuracy: 0.90 || AverageLoss: 0.1729 || Elapsed: 0.000138\n",
            "Epoch: 179 || Iter: 9/10 || Accuracy: 1.00 || AverageLoss: 0.1733 || Elapsed: 0.000135\n",
            "Epoch: 180 || Iter: 9/10 || Accuracy: 0.97 || AverageLoss: 0.1765 || Elapsed: 0.000136\n",
            "Epoch: 181 || Iter: 9/10 || Accuracy: 0.93 || AverageLoss: 0.1728 || Elapsed: 0.000135\n",
            "Epoch: 182 || Iter: 9/10 || Accuracy: 0.93 || AverageLoss: 0.1763 || Elapsed: 0.000134\n",
            "Epoch: 183 || Iter: 9/10 || Accuracy: 0.90 || AverageLoss: 0.1743 || Elapsed: 0.000135\n",
            "Epoch: 184 || Iter: 9/10 || Accuracy: 0.93 || AverageLoss: 0.1695 || Elapsed: 0.000150\n",
            "Epoch: 185 || Iter: 9/10 || Accuracy: 0.90 || AverageLoss: 0.1776 || Elapsed: 0.000135\n",
            "Epoch: 186 || Iter: 9/10 || Accuracy: 0.93 || AverageLoss: 0.1729 || Elapsed: 0.000141\n",
            "Epoch: 187 || Iter: 9/10 || Accuracy: 1.00 || AverageLoss: 0.1665 || Elapsed: 0.000162\n",
            "Epoch: 188 || Iter: 9/10 || Accuracy: 0.97 || AverageLoss: 0.1659 || Elapsed: 0.000134\n",
            "Epoch: 189 || Iter: 9/10 || Accuracy: 0.97 || AverageLoss: 0.1693 || Elapsed: 0.000134\n",
            "Epoch: 190 || Iter: 9/10 || Accuracy: 0.93 || AverageLoss: 0.1630 || Elapsed: 0.000134\n",
            "Epoch: 191 || Iter: 9/10 || Accuracy: 0.93 || AverageLoss: 0.1696 || Elapsed: 0.000170\n",
            "Epoch: 192 || Iter: 9/10 || Accuracy: 0.93 || AverageLoss: 0.1619 || Elapsed: 0.000134\n",
            "Epoch: 193 || Iter: 9/10 || Accuracy: 1.00 || AverageLoss: 0.1594 || Elapsed: 0.000141\n",
            "Epoch: 194 || Iter: 9/10 || Accuracy: 0.90 || AverageLoss: 0.1629 || Elapsed: 0.000135\n",
            "Epoch: 195 || Iter: 9/10 || Accuracy: 1.00 || AverageLoss: 0.1612 || Elapsed: 0.000133\n",
            "Epoch: 196 || Iter: 9/10 || Accuracy: 0.90 || AverageLoss: 0.1636 || Elapsed: 0.000153\n",
            "Epoch: 197 || Iter: 9/10 || Accuracy: 1.00 || AverageLoss: 0.1528 || Elapsed: 0.000134\n",
            "Epoch: 198 || Iter: 9/10 || Accuracy: 0.97 || AverageLoss: 0.1597 || Elapsed: 0.000133\n",
            "Epoch: 199 || Iter: 9/10 || Accuracy: 0.87 || AverageLoss: 0.1575 || Elapsed: 0.000143\n"
          ]
        },
        {
          "data": {
            "image/png": "[encoded data removed]",
            "text/plain": [
              "<Figure size 432x288 with 2 Axes>"
            ]
          },
          "metadata": {
            "tags": []
          },
          "output_type": "display_data"
        }
      ],
      "source": [
        "import time\n",
        "import matplotlib.pyplot as plt\n",
        "\n",
        "if __name__==\"__main__\":\n",
        "    # Load data\n",
        "    x, t = load_data()\n",
        "\n",
        "    # Define Hyperparameter\n",
        "    max_epoch = 200\n",
        "    batch_size = 30\n",
        "    hidden_size = 10\n",
        "    learning_rate = 1.0\n",
        "\n",
        "    data_size = len(x)\n",
        "    max_iters = data_size // batch_size\n",
        "    total_loss = 0\n",
        "    loss_count = 0\n",
        "    loss_list = []\n",
        "\n",
        "    # Load Model / Load Optimizer\n",
        "    model = TwoLayerNet(input_size=2, hidden_size=hidden_size, output_size=3)\n",
        "    optimizer = SGD(lr=learning_rate)\n",
        "\n",
        "    # Start Training ----------------------\n",
        "    for epoch in range(max_epoch):\n",
        "\n",
        "        # Shuffle data\n",
        "        idx = np.random.permutation(data_size)\n",
        "        x = x[idx]\n",
        "        t = t[idx]\n",
        "\n",
        "        for iters in range(max_iters):\n",
        "            start_t = time.perf_counter()\n",
        "            batch_x = x[iters*batch_size:(iters+1)*batch_size]\n",
        "            batch_t = t[iters*batch_size:(iters+1)*batch_size]\n",
        "\n",
        "            loss, pred_ = model.forward(batch_x, batch_t)\n",
        "            model.backward()\n",
        "            optimizer.update(model.params, model.grads)\n",
        "\n",
        "            total_loss += loss\n",
        "            loss_count += 1\n",
        "\n",
        "            ent_t = time.perf_counter()\n",
        "            iter_time = ent_t-start_t\n",
        "            if (iters+1) % 10 == 0:\n",
        "                avg_loss = total_loss / loss_count\n",
        "                pred = np.argmax(pred_, axis=1)\n",
        "                acc = np.sum(pred==batch_t.argmax(axis=1))/batch_size\n",
        "\n",
        "                print(f\"Epoch: {epoch} || Iter: {iters}/{max_iters} || Accuracy: {acc:.2f} || AverageLoss: {avg_loss:.4f} || Elapsed: {iter_time:.6f}\")\n",
        "                loss_list.append(avg_loss)\n",
        "                total_loss, loss_count = 0, 0"
      ]
    },
    {
      "cell_type": "code",
      "execution_count": null,
      "metadata": {
        "colab": {
          "base_uri": "https://localhost:8080/",
          "height": 300
        },
        "id": "IuC1D60M82lg",
        "outputId": "3e6b233c-68a8-480c-9738-dbc06ccc610d"
      },
      "outputs": [
        {
          "data": {
            "image/png": "[encoded data removed]",
            "text/plain": [
              "<Figure size 432x288 with 2 Axes>"
            ]
          },
          "metadata": {
            "tags": []
          },
          "output_type": "display_data"
        }
      ],
      "source": [
        "# Plot Loss ----------------------------\n",
        "fig, axes = plt.subplots(1,2)\n",
        "axes[0].plot(np.arange(len(loss_list)), loss_list, label='train')\n",
        "axes[0].set_title('Loss Plots', fontsize=20)\n",
        "axes[0].set_xlabel('Iteration (x10)')\n",
        "axes[0].set_ylabel('Loss')\n",
        "\n",
        "# Decision Boundary\n",
        "h = 0.001\n",
        "x_min, x_max = x[:, 0].min() - .1, x[:, 0].max() + .1\n",
        "y_min, y_max = x[:, 1].min() - .1, x[:, 1].max() + .1\n",
        "xx, yy = np.meshgrid(np.arange(x_min, x_max, h), np.arange(y_min, y_max, h))\n",
        "X = np.c_[xx.ravel(), yy.ravel()]\n",
        "score = model.predict(X)\n",
        "predict_cls = np.argmax(score, axis=1)\n",
        "Z = predict_cls.reshape(xx.shape)\n",
        "axes[1].set_title('Decision Boundary', fontsize=20)\n",
        "axes[1].contourf(xx, yy, Z)\n",
        "axes[1].axis('off')\n",
        "\n",
        "# Decision Boundary\n",
        "x, t = load_data()\n",
        "N = 100\n",
        "CLS_NUM = 3\n",
        "markers = ['o', 'x', '^']\n",
        "for i in range(CLS_NUM):\n",
        "    axes[1].scatter(x[i*N:(i+1)*N, 0], x[i*N:(i+1)*N, 1], s=40, marker=markers[i])\n",
        "plt.show()"
      ]
    },
    {
      "cell_type": "code",
      "execution_count": null,
      "metadata": {
        "id": "FE7tJIeO-X_I"
      },
      "outputs": [],
      "source": []
    }
  ],
  "metadata": {
    "colab": {
      "provenance": []
    },
    "kernelspec": {
      "display_name": "Python 3",
      "name": "python3"
    },
    "language_info": {
      "codemirror_mode": {
        "name": "ipython",
        "version": 3
      },
      "file_extension": ".py",
      "mimetype": "text/x-python",
      "name": "python",
      "nbconvert_exporter": "python",
      "pygments_lexer": "ipython3",
      "version": "3.11.7"
    }
  },
  "nbformat": 4,
  "nbformat_minor": 0
}
