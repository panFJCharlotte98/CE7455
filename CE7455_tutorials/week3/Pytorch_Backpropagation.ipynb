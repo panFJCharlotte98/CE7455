{
  "cells": [
    {
      "cell_type": "markdown",
      "metadata": {
        "id": "PG5wzFwJ6nJQ"
      },
      "source": [
        "# PyTorch MLP Implementation\n",
        "\n",
        "- PyTorch is an open source machine learning library based on the Torch library\n",
        "- PyTorch defines a class called Tensor (torch.Tensor) to store and operate on homogeneous multidimensional rectangular arrays of numbers (matrix).\n",
        "- PyTorch Tensors are similar to NumPy Arrays, but can also be operated on a CUDA-capable Nvidia GPU. PyTorch supports various sub-types of Tensors.\n",
        "\n"
      ]
    },
    {
      "cell_type": "code",
      "execution_count": 1,
      "metadata": {
        "id": "DjD3rEuV6krX"
      },
      "outputs": [],
      "source": [
        "import torch\n",
        "import torch.nn as nn\n",
        "import torch.optim as optim\n",
        "\n",
        "import numpy as np\n",
        "import matplotlib.pyplot as plt\n",
        "import time"
      ]
    },
    {
      "cell_type": "markdown",
      "metadata": {
        "id": "JEyjyxIC64qc"
      },
      "source": [
        "## Dataset Creation\n",
        "\n",
        "- X: 300x2\n",
        "- Y: 3"
      ]
    },
    {
      "cell_type": "code",
      "execution_count": null,
      "metadata": {
        "id": "xgJs7g7B-Gi6"
      },
      "outputs": [],
      "source": [
        "def load_data(seed=1984):\n",
        "    np.random.seed(seed)\n",
        "    N = 100\n",
        "    DIM = 2\n",
        "    CLS_NUM = 3\n",
        "\n",
        "    x = np.zeros((N*CLS_NUM, DIM))\n",
        "    t = np.zeros((N*CLS_NUM, CLS_NUM), dtype=np.int)\n",
        "\n",
        "    for j in range(CLS_NUM):\n",
        "        for i in range(N): # N*j, N*(j+1)):\n",
        "            rate = i / N\n",
        "            radius = 1.0*rate\n",
        "            theta = j*4.0 + 4.0*rate + np.random.randn()*0.2\n",
        "\n",
        "            ix = N*j + i\n",
        "            x[ix] = np.array([radius*np.sin(theta),\n",
        "                              radius*np.cos(theta)]).flatten()\n",
        "            t[ix, j] = 1\n",
        "\n",
        "    return x, t"
      ]
    },
    {
      "cell_type": "code",
      "execution_count": null,
      "metadata": {
        "colab": {
          "base_uri": "https://localhost:8080/",
          "height": 301
        },
        "id": "LGlr41bGJcAw",
        "outputId": "43e2e752-e824-4256-bdea-72c58652e7b8"
      },
      "outputs": [
        {
          "name": "stdout",
          "output_type": "stream",
          "text": [
            "x: (300, 2)\n",
            "t: (300, 3)\n"
          ]
        },
        {
          "data": {
            "image/png": "[encoded data removed]",
            "text/plain": [
              "<Figure size 432x288 with 1 Axes>"
            ]
          },
          "metadata": {
            "needs_background": "light",
            "tags": []
          },
          "output_type": "display_data"
        }
      ],
      "source": [
        "x, t = load_data()\n",
        "print(f\"x: {x.shape}\")\n",
        "print(f\"t: {t.shape}\")\n",
        "\n",
        "plt.scatter(x[:,0], x[:,1], color=t)\n",
        "plt.show()"
      ]
    },
    {
      "cell_type": "markdown",
      "metadata": {
        "id": "AfkHmT_Q6876"
      },
      "source": [
        "## Define Model Structure\n"
      ]
    },
    {
      "cell_type": "code",
      "execution_count": null,
      "metadata": {
        "id": "BmFYGc1j-BWX"
      },
      "outputs": [],
      "source": [
        "class TwoLayersNN(nn.Module):\n",
        "    def __init__(self, input_dim, hidden_dim, output_dim):\n",
        "        super(TwoLayersNN, self).__init__()\n",
        "        self.input_dim = input_dim\n",
        "        self.hidden_dim = hidden_dim\n",
        "        self.output_dim = output_dim\n",
        "\n",
        "        # Default PyTorch layer is initialized with a normal distribution\n",
        "        self.hidden_layer = nn.Linear(input_dim, hidden_dim)\n",
        "        nn.init.xavier_normal_(self.hidden_layer.weight)  # Xavier Initialization\n",
        "        # nn.init.kaiming_normal_(self.hidden_layer.weight) # He Initialization\n",
        "        self.output_layer = nn.Linear(hidden_dim, output_dim)\n",
        "        self.sigmoid = nn.Sigmoid()\n",
        "        self.dropout = nn.Dropout(p=0.2)\n",
        "        self.batchnorm = nn.BatchNorm1d(num_features=10)\n",
        "\n",
        "    def forward(self, inputs):\n",
        "        out = self.hidden_layer(inputs)\n",
        "        out = self.batchnorm(out)\n",
        "        out = self.sigmoid(out)\n",
        "        out = self.dropout(out)\n",
        "\n",
        "        out = self.output_layer(out)\n",
        "\n",
        "        return out"
      ]
    },
    {
      "cell_type": "markdown",
      "metadata": {
        "id": "Rc1I2Mft7Efb"
      },
      "source": [
        "## Model Instantiation"
      ]
    },
    {
      "cell_type": "code",
      "execution_count": null,
      "metadata": {
        "id": "F03xUES2-Bra"
      },
      "outputs": [],
      "source": [
        "hidden_dim = 10\n",
        "output_dim = 3\n",
        "input_dim = 2\n",
        "\n",
        "lr = 1\n",
        "\n",
        "criterion = nn.CrossEntropyLoss()\n",
        "model = TwoLayersNN(input_dim, hidden_dim, output_dim)\n",
        "optimizer = optim.SGD(model.parameters(), lr)"
      ]
    },
    {
      "cell_type": "markdown",
      "metadata": {
        "id": "8X4dnIi_7K8y"
      },
      "source": [
        "# Model Train"
      ]
    },
    {
      "cell_type": "code",
      "execution_count": null,
      "metadata": {
        "colab": {
          "base_uri": "https://localhost:8080/"
        },
        "id": "cfU-Fy-I-JyJ",
        "outputId": "f1c9e972-bbdd-44e0-9b5e-26b99e83a458"
      },
      "outputs": [
        {
          "name": "stdout",
          "output_type": "stream",
          "text": [
            "Epoch: 0 || Iter: 9/10 || Accuracy: 0.53 || AverageLoss: 1.1416 || Elapsed: 0.000805\n",
            "Epoch: 1 || Iter: 9/10 || Accuracy: 0.47 || AverageLoss: 0.9415 || Elapsed: 0.000760\n",
            "Epoch: 2 || Iter: 9/10 || Accuracy: 0.60 || AverageLoss: 0.8835 || Elapsed: 0.000773\n",
            "Epoch: 3 || Iter: 9/10 || Accuracy: 0.57 || AverageLoss: 0.9084 || Elapsed: 0.000764\n",
            "Epoch: 4 || Iter: 9/10 || Accuracy: 0.60 || AverageLoss: 0.8822 || Elapsed: 0.000891\n",
            "Epoch: 5 || Iter: 9/10 || Accuracy: 0.70 || AverageLoss: 0.8481 || Elapsed: 0.000765\n",
            "Epoch: 6 || Iter: 9/10 || Accuracy: 0.63 || AverageLoss: 0.8814 || Elapsed: 0.000751\n",
            "Epoch: 7 || Iter: 9/10 || Accuracy: 0.60 || AverageLoss: 0.8313 || Elapsed: 0.000765\n",
            "Epoch: 8 || Iter: 9/10 || Accuracy: 0.53 || AverageLoss: 0.8795 || Elapsed: 0.000740\n",
            "Epoch: 9 || Iter: 9/10 || Accuracy: 0.57 || AverageLoss: 0.8582 || Elapsed: 0.000828\n",
            "Epoch: 10 || Iter: 9/10 || Accuracy: 0.67 || AverageLoss: 0.8577 || Elapsed: 0.000839\n",
            "Epoch: 11 || Iter: 9/10 || Accuracy: 0.60 || AverageLoss: 0.8215 || Elapsed: 0.000888\n",
            "Epoch: 12 || Iter: 9/10 || Accuracy: 0.50 || AverageLoss: 0.8394 || Elapsed: 0.000753\n",
            "Epoch: 13 || Iter: 9/10 || Accuracy: 0.53 || AverageLoss: 0.8552 || Elapsed: 0.000764\n",
            "Epoch: 14 || Iter: 9/10 || Accuracy: 0.70 || AverageLoss: 0.8389 || Elapsed: 0.000738\n",
            "Epoch: 15 || Iter: 9/10 || Accuracy: 0.63 || AverageLoss: 0.7965 || Elapsed: 0.000755\n",
            "Epoch: 16 || Iter: 9/10 || Accuracy: 0.50 || AverageLoss: 0.8108 || Elapsed: 0.000904\n",
            "Epoch: 17 || Iter: 9/10 || Accuracy: 0.57 || AverageLoss: 0.8474 || Elapsed: 0.000876\n",
            "Epoch: 18 || Iter: 9/10 || Accuracy: 0.40 || AverageLoss: 0.8298 || Elapsed: 0.000842\n",
            "Epoch: 19 || Iter: 9/10 || Accuracy: 0.43 || AverageLoss: 0.8001 || Elapsed: 0.000770\n",
            "Epoch: 20 || Iter: 9/10 || Accuracy: 0.57 || AverageLoss: 0.8180 || Elapsed: 0.000869\n",
            "Epoch: 21 || Iter: 9/10 || Accuracy: 0.47 || AverageLoss: 0.8191 || Elapsed: 0.000931\n",
            "Epoch: 22 || Iter: 9/10 || Accuracy: 0.53 || AverageLoss: 0.8115 || Elapsed: 0.000872\n",
            "Epoch: 23 || Iter: 9/10 || Accuracy: 0.57 || AverageLoss: 0.7991 || Elapsed: 0.000760\n",
            "Epoch: 24 || Iter: 9/10 || Accuracy: 0.53 || AverageLoss: 0.8048 || Elapsed: 0.000855\n",
            "Epoch: 25 || Iter: 9/10 || Accuracy: 0.67 || AverageLoss: 0.7979 || Elapsed: 0.000782\n",
            "Epoch: 26 || Iter: 9/10 || Accuracy: 0.57 || AverageLoss: 0.7594 || Elapsed: 0.000756\n",
            "Epoch: 27 || Iter: 9/10 || Accuracy: 0.40 || AverageLoss: 0.8004 || Elapsed: 0.000750\n",
            "Epoch: 28 || Iter: 9/10 || Accuracy: 0.53 || AverageLoss: 0.7741 || Elapsed: 0.000752\n",
            "Epoch: 29 || Iter: 9/10 || Accuracy: 0.57 || AverageLoss: 0.7675 || Elapsed: 0.000758\n",
            "Epoch: 30 || Iter: 9/10 || Accuracy: 0.53 || AverageLoss: 0.7707 || Elapsed: 0.000772\n",
            "Epoch: 31 || Iter: 9/10 || Accuracy: 0.50 || AverageLoss: 0.7558 || Elapsed: 0.000760\n",
            "Epoch: 32 || Iter: 9/10 || Accuracy: 0.60 || AverageLoss: 0.7956 || Elapsed: 0.001139\n",
            "Epoch: 33 || Iter: 9/10 || Accuracy: 0.47 || AverageLoss: 0.7689 || Elapsed: 0.000779\n",
            "Epoch: 34 || Iter: 9/10 || Accuracy: 0.57 || AverageLoss: 0.7834 || Elapsed: 0.000767\n",
            "Epoch: 35 || Iter: 9/10 || Accuracy: 0.50 || AverageLoss: 0.7711 || Elapsed: 0.000757\n",
            "Epoch: 36 || Iter: 9/10 || Accuracy: 0.70 || AverageLoss: 0.7460 || Elapsed: 0.000807\n",
            "Epoch: 37 || Iter: 9/10 || Accuracy: 0.57 || AverageLoss: 0.7604 || Elapsed: 0.001027\n",
            "Epoch: 38 || Iter: 9/10 || Accuracy: 0.50 || AverageLoss: 0.7612 || Elapsed: 0.000990\n",
            "Epoch: 39 || Iter: 9/10 || Accuracy: 0.53 || AverageLoss: 0.7784 || Elapsed: 0.000798\n",
            "Epoch: 40 || Iter: 9/10 || Accuracy: 0.63 || AverageLoss: 0.7022 || Elapsed: 0.000761\n",
            "Epoch: 41 || Iter: 9/10 || Accuracy: 0.67 || AverageLoss: 0.7177 || Elapsed: 0.000735\n",
            "Epoch: 42 || Iter: 9/10 || Accuracy: 0.73 || AverageLoss: 0.7027 || Elapsed: 0.000777\n",
            "Epoch: 43 || Iter: 9/10 || Accuracy: 0.53 || AverageLoss: 0.7016 || Elapsed: 0.000752\n",
            "Epoch: 44 || Iter: 9/10 || Accuracy: 0.70 || AverageLoss: 0.6904 || Elapsed: 0.000766\n",
            "Epoch: 45 || Iter: 9/10 || Accuracy: 0.57 || AverageLoss: 0.6942 || Elapsed: 0.000807\n",
            "Epoch: 46 || Iter: 9/10 || Accuracy: 0.67 || AverageLoss: 0.6994 || Elapsed: 0.000841\n",
            "Epoch: 47 || Iter: 9/10 || Accuracy: 0.60 || AverageLoss: 0.7111 || Elapsed: 0.000784\n",
            "Epoch: 48 || Iter: 9/10 || Accuracy: 0.57 || AverageLoss: 0.7288 || Elapsed: 0.000752\n",
            "Epoch: 49 || Iter: 9/10 || Accuracy: 0.80 || AverageLoss: 0.6819 || Elapsed: 0.000782\n",
            "Epoch: 50 || Iter: 9/10 || Accuracy: 0.67 || AverageLoss: 0.6895 || Elapsed: 0.001113\n",
            "Epoch: 51 || Iter: 9/10 || Accuracy: 0.67 || AverageLoss: 0.6926 || Elapsed: 0.000744\n",
            "Epoch: 52 || Iter: 9/10 || Accuracy: 0.67 || AverageLoss: 0.6755 || Elapsed: 0.000819\n",
            "Epoch: 53 || Iter: 9/10 || Accuracy: 0.70 || AverageLoss: 0.6726 || Elapsed: 0.000748\n",
            "Epoch: 54 || Iter: 9/10 || Accuracy: 0.67 || AverageLoss: 0.6699 || Elapsed: 0.001467\n",
            "Epoch: 55 || Iter: 9/10 || Accuracy: 0.73 || AverageLoss: 0.6367 || Elapsed: 0.000765\n",
            "Epoch: 56 || Iter: 9/10 || Accuracy: 0.73 || AverageLoss: 0.6658 || Elapsed: 0.000768\n",
            "Epoch: 57 || Iter: 9/10 || Accuracy: 0.63 || AverageLoss: 0.6667 || Elapsed: 0.000792\n",
            "Epoch: 58 || Iter: 9/10 || Accuracy: 0.70 || AverageLoss: 0.6393 || Elapsed: 0.000813\n",
            "Epoch: 59 || Iter: 9/10 || Accuracy: 0.47 || AverageLoss: 0.6591 || Elapsed: 0.000781\n",
            "Epoch: 60 || Iter: 9/10 || Accuracy: 0.80 || AverageLoss: 0.6358 || Elapsed: 0.000746\n",
            "Epoch: 61 || Iter: 9/10 || Accuracy: 0.63 || AverageLoss: 0.6964 || Elapsed: 0.000773\n",
            "Epoch: 62 || Iter: 9/10 || Accuracy: 0.43 || AverageLoss: 0.7171 || Elapsed: 0.000749\n",
            "Epoch: 63 || Iter: 9/10 || Accuracy: 0.60 || AverageLoss: 0.6111 || Elapsed: 0.000771\n",
            "Epoch: 64 || Iter: 9/10 || Accuracy: 0.60 || AverageLoss: 0.6573 || Elapsed: 0.000735\n",
            "Epoch: 65 || Iter: 9/10 || Accuracy: 0.73 || AverageLoss: 0.6162 || Elapsed: 0.001001\n",
            "Epoch: 66 || Iter: 9/10 || Accuracy: 0.70 || AverageLoss: 0.6772 || Elapsed: 0.000765\n",
            "Epoch: 67 || Iter: 9/10 || Accuracy: 0.73 || AverageLoss: 0.6251 || Elapsed: 0.000798\n",
            "Epoch: 68 || Iter: 9/10 || Accuracy: 0.73 || AverageLoss: 0.7041 || Elapsed: 0.000763\n",
            "Epoch: 69 || Iter: 9/10 || Accuracy: 0.77 || AverageLoss: 0.6356 || Elapsed: 0.000773\n",
            "Epoch: 70 || Iter: 9/10 || Accuracy: 0.70 || AverageLoss: 0.6220 || Elapsed: 0.000755\n",
            "Epoch: 71 || Iter: 9/10 || Accuracy: 0.67 || AverageLoss: 0.6135 || Elapsed: 0.000874\n",
            "Epoch: 72 || Iter: 9/10 || Accuracy: 0.60 || AverageLoss: 0.6685 || Elapsed: 0.000742\n",
            "Epoch: 73 || Iter: 9/10 || Accuracy: 0.73 || AverageLoss: 0.6062 || Elapsed: 0.000737\n",
            "Epoch: 74 || Iter: 9/10 || Accuracy: 0.70 || AverageLoss: 0.6259 || Elapsed: 0.000948\n",
            "Epoch: 75 || Iter: 9/10 || Accuracy: 0.60 || AverageLoss: 0.6505 || Elapsed: 0.001222\n",
            "Epoch: 76 || Iter: 9/10 || Accuracy: 0.67 || AverageLoss: 0.6557 || Elapsed: 0.000843\n",
            "Epoch: 77 || Iter: 9/10 || Accuracy: 0.83 || AverageLoss: 0.6566 || Elapsed: 0.000789\n",
            "Epoch: 78 || Iter: 9/10 || Accuracy: 0.73 || AverageLoss: 0.6054 || Elapsed: 0.000747\n",
            "Epoch: 79 || Iter: 9/10 || Accuracy: 0.60 || AverageLoss: 0.6232 || Elapsed: 0.000761\n",
            "Epoch: 80 || Iter: 9/10 || Accuracy: 0.80 || AverageLoss: 0.6253 || Elapsed: 0.000867\n",
            "Epoch: 81 || Iter: 9/10 || Accuracy: 0.90 || AverageLoss: 0.6551 || Elapsed: 0.000762\n",
            "Epoch: 82 || Iter: 9/10 || Accuracy: 0.77 || AverageLoss: 0.6308 || Elapsed: 0.000764\n",
            "Epoch: 83 || Iter: 9/10 || Accuracy: 0.70 || AverageLoss: 0.6260 || Elapsed: 0.000756\n",
            "Epoch: 84 || Iter: 9/10 || Accuracy: 0.73 || AverageLoss: 0.5993 || Elapsed: 0.000793\n",
            "Epoch: 85 || Iter: 9/10 || Accuracy: 0.77 || AverageLoss: 0.6238 || Elapsed: 0.000794\n",
            "Epoch: 86 || Iter: 9/10 || Accuracy: 0.70 || AverageLoss: 0.6075 || Elapsed: 0.000791\n",
            "Epoch: 87 || Iter: 9/10 || Accuracy: 0.70 || AverageLoss: 0.5994 || Elapsed: 0.000762\n",
            "Epoch: 88 || Iter: 9/10 || Accuracy: 0.77 || AverageLoss: 0.6064 || Elapsed: 0.000741\n",
            "Epoch: 89 || Iter: 9/10 || Accuracy: 0.73 || AverageLoss: 0.6249 || Elapsed: 0.000785\n",
            "Epoch: 90 || Iter: 9/10 || Accuracy: 0.80 || AverageLoss: 0.5854 || Elapsed: 0.000738\n",
            "Epoch: 91 || Iter: 9/10 || Accuracy: 0.73 || AverageLoss: 0.6180 || Elapsed: 0.000767\n",
            "Epoch: 92 || Iter: 9/10 || Accuracy: 0.77 || AverageLoss: 0.5813 || Elapsed: 0.000791\n",
            "Epoch: 93 || Iter: 9/10 || Accuracy: 0.70 || AverageLoss: 0.6086 || Elapsed: 0.000790\n",
            "Epoch: 94 || Iter: 9/10 || Accuracy: 0.77 || AverageLoss: 0.6104 || Elapsed: 0.000766\n",
            "Epoch: 95 || Iter: 9/10 || Accuracy: 0.50 || AverageLoss: 0.6296 || Elapsed: 0.000798\n",
            "Epoch: 96 || Iter: 9/10 || Accuracy: 0.70 || AverageLoss: 0.6456 || Elapsed: 0.000777\n",
            "Epoch: 97 || Iter: 9/10 || Accuracy: 0.80 || AverageLoss: 0.6248 || Elapsed: 0.000803\n",
            "Epoch: 98 || Iter: 9/10 || Accuracy: 0.73 || AverageLoss: 0.6426 || Elapsed: 0.000734\n",
            "Epoch: 99 || Iter: 9/10 || Accuracy: 0.70 || AverageLoss: 0.6186 || Elapsed: 0.000748\n",
            "Epoch: 100 || Iter: 9/10 || Accuracy: 0.73 || AverageLoss: 0.6329 || Elapsed: 0.000749\n",
            "Epoch: 101 || Iter: 9/10 || Accuracy: 0.77 || AverageLoss: 0.5534 || Elapsed: 0.000791\n",
            "Epoch: 102 || Iter: 9/10 || Accuracy: 0.67 || AverageLoss: 0.5408 || Elapsed: 0.000811\n",
            "Epoch: 103 || Iter: 9/10 || Accuracy: 0.60 || AverageLoss: 0.6513 || Elapsed: 0.000729\n",
            "Epoch: 104 || Iter: 9/10 || Accuracy: 0.80 || AverageLoss: 0.6356 || Elapsed: 0.000777\n",
            "Epoch: 105 || Iter: 9/10 || Accuracy: 0.80 || AverageLoss: 0.5582 || Elapsed: 0.000774\n",
            "Epoch: 106 || Iter: 9/10 || Accuracy: 0.77 || AverageLoss: 0.6182 || Elapsed: 0.000768\n",
            "Epoch: 107 || Iter: 9/10 || Accuracy: 0.80 || AverageLoss: 0.6135 || Elapsed: 0.000728\n",
            "Epoch: 108 || Iter: 9/10 || Accuracy: 0.80 || AverageLoss: 0.5401 || Elapsed: 0.000762\n",
            "Epoch: 109 || Iter: 9/10 || Accuracy: 0.90 || AverageLoss: 0.5278 || Elapsed: 0.000790\n",
            "Epoch: 110 || Iter: 9/10 || Accuracy: 0.77 || AverageLoss: 0.6136 || Elapsed: 0.000761\n",
            "Epoch: 111 || Iter: 9/10 || Accuracy: 0.77 || AverageLoss: 0.6111 || Elapsed: 0.000771\n",
            "Epoch: 112 || Iter: 9/10 || Accuracy: 0.73 || AverageLoss: 0.6003 || Elapsed: 0.001096\n",
            "Epoch: 113 || Iter: 9/10 || Accuracy: 0.70 || AverageLoss: 0.5397 || Elapsed: 0.000782\n",
            "Epoch: 114 || Iter: 9/10 || Accuracy: 0.80 || AverageLoss: 0.5526 || Elapsed: 0.000790\n",
            "Epoch: 115 || Iter: 9/10 || Accuracy: 0.77 || AverageLoss: 0.5790 || Elapsed: 0.000777\n",
            "Epoch: 116 || Iter: 9/10 || Accuracy: 0.83 || AverageLoss: 0.5251 || Elapsed: 0.000782\n",
            "Epoch: 117 || Iter: 9/10 || Accuracy: 0.73 || AverageLoss: 0.4933 || Elapsed: 0.000793\n",
            "Epoch: 118 || Iter: 9/10 || Accuracy: 0.80 || AverageLoss: 0.5848 || Elapsed: 0.000774\n",
            "Epoch: 119 || Iter: 9/10 || Accuracy: 0.80 || AverageLoss: 0.6143 || Elapsed: 0.000754\n",
            "Epoch: 120 || Iter: 9/10 || Accuracy: 0.77 || AverageLoss: 0.5514 || Elapsed: 0.000777\n",
            "Epoch: 121 || Iter: 9/10 || Accuracy: 0.77 || AverageLoss: 0.6305 || Elapsed: 0.000793\n",
            "Epoch: 122 || Iter: 9/10 || Accuracy: 0.73 || AverageLoss: 0.6312 || Elapsed: 0.000744\n",
            "Epoch: 123 || Iter: 9/10 || Accuracy: 0.77 || AverageLoss: 0.5903 || Elapsed: 0.000745\n",
            "Epoch: 124 || Iter: 9/10 || Accuracy: 0.80 || AverageLoss: 0.5583 || Elapsed: 0.000750\n",
            "Epoch: 125 || Iter: 9/10 || Accuracy: 0.77 || AverageLoss: 0.5412 || Elapsed: 0.000743\n",
            "Epoch: 126 || Iter: 9/10 || Accuracy: 0.73 || AverageLoss: 0.5251 || Elapsed: 0.001086\n",
            "Epoch: 127 || Iter: 9/10 || Accuracy: 0.60 || AverageLoss: 0.5709 || Elapsed: 0.000785\n",
            "Epoch: 128 || Iter: 9/10 || Accuracy: 0.80 || AverageLoss: 0.5695 || Elapsed: 0.000773\n",
            "Epoch: 129 || Iter: 9/10 || Accuracy: 0.90 || AverageLoss: 0.5694 || Elapsed: 0.000895\n",
            "Epoch: 130 || Iter: 9/10 || Accuracy: 0.60 || AverageLoss: 0.5525 || Elapsed: 0.000797\n",
            "Epoch: 131 || Iter: 9/10 || Accuracy: 0.80 || AverageLoss: 0.5265 || Elapsed: 0.000768\n",
            "Epoch: 132 || Iter: 9/10 || Accuracy: 0.77 || AverageLoss: 0.5024 || Elapsed: 0.000802\n",
            "Epoch: 133 || Iter: 9/10 || Accuracy: 0.80 || AverageLoss: 0.4764 || Elapsed: 0.000802\n",
            "Epoch: 134 || Iter: 9/10 || Accuracy: 0.70 || AverageLoss: 0.6415 || Elapsed: 0.000752\n",
            "Epoch: 135 || Iter: 9/10 || Accuracy: 0.77 || AverageLoss: 0.5150 || Elapsed: 0.000810\n",
            "Epoch: 136 || Iter: 9/10 || Accuracy: 0.77 || AverageLoss: 0.6164 || Elapsed: 0.000770\n",
            "Epoch: 137 || Iter: 9/10 || Accuracy: 0.70 || AverageLoss: 0.5596 || Elapsed: 0.000800\n",
            "Epoch: 138 || Iter: 9/10 || Accuracy: 0.77 || AverageLoss: 0.6060 || Elapsed: 0.000788\n",
            "Epoch: 139 || Iter: 9/10 || Accuracy: 0.77 || AverageLoss: 0.5457 || Elapsed: 0.000759\n",
            "Epoch: 140 || Iter: 9/10 || Accuracy: 0.70 || AverageLoss: 0.5761 || Elapsed: 0.000782\n",
            "Epoch: 141 || Iter: 9/10 || Accuracy: 0.87 || AverageLoss: 0.4838 || Elapsed: 0.000790\n",
            "Epoch: 142 || Iter: 9/10 || Accuracy: 0.80 || AverageLoss: 0.4665 || Elapsed: 0.000806\n",
            "Epoch: 143 || Iter: 9/10 || Accuracy: 0.83 || AverageLoss: 0.6245 || Elapsed: 0.000764\n",
            "Epoch: 144 || Iter: 9/10 || Accuracy: 0.77 || AverageLoss: 0.6184 || Elapsed: 0.000759\n",
            "Epoch: 145 || Iter: 9/10 || Accuracy: 0.83 || AverageLoss: 0.5825 || Elapsed: 0.000781\n",
            "Epoch: 146 || Iter: 9/10 || Accuracy: 0.60 || AverageLoss: 0.6154 || Elapsed: 0.000772\n",
            "Epoch: 147 || Iter: 9/10 || Accuracy: 0.83 || AverageLoss: 0.5076 || Elapsed: 0.001018\n",
            "Epoch: 148 || Iter: 9/10 || Accuracy: 0.90 || AverageLoss: 0.6034 || Elapsed: 0.000749\n",
            "Epoch: 149 || Iter: 9/10 || Accuracy: 0.87 || AverageLoss: 0.6612 || Elapsed: 0.000784\n",
            "Epoch: 150 || Iter: 9/10 || Accuracy: 0.80 || AverageLoss: 0.5969 || Elapsed: 0.000782\n",
            "Epoch: 151 || Iter: 9/10 || Accuracy: 0.83 || AverageLoss: 0.5193 || Elapsed: 0.000837\n",
            "Epoch: 152 || Iter: 9/10 || Accuracy: 0.83 || AverageLoss: 0.5723 || Elapsed: 0.000776\n",
            "Epoch: 153 || Iter: 9/10 || Accuracy: 0.83 || AverageLoss: 0.4873 || Elapsed: 0.000782\n",
            "Epoch: 154 || Iter: 9/10 || Accuracy: 0.80 || AverageLoss: 0.5221 || Elapsed: 0.000759\n",
            "Epoch: 155 || Iter: 9/10 || Accuracy: 0.90 || AverageLoss: 0.6807 || Elapsed: 0.000808\n",
            "Epoch: 156 || Iter: 9/10 || Accuracy: 0.63 || AverageLoss: 0.6037 || Elapsed: 0.000769\n",
            "Epoch: 157 || Iter: 9/10 || Accuracy: 0.83 || AverageLoss: 0.5917 || Elapsed: 0.001706\n",
            "Epoch: 158 || Iter: 9/10 || Accuracy: 0.60 || AverageLoss: 0.6170 || Elapsed: 0.000769\n",
            "Epoch: 159 || Iter: 9/10 || Accuracy: 0.70 || AverageLoss: 0.5284 || Elapsed: 0.000779\n",
            "Epoch: 160 || Iter: 9/10 || Accuracy: 0.63 || AverageLoss: 0.6233 || Elapsed: 0.000736\n",
            "Epoch: 161 || Iter: 9/10 || Accuracy: 0.53 || AverageLoss: 0.5521 || Elapsed: 0.000769\n",
            "Epoch: 162 || Iter: 9/10 || Accuracy: 0.70 || AverageLoss: 0.5743 || Elapsed: 0.000754\n",
            "Epoch: 163 || Iter: 9/10 || Accuracy: 0.77 || AverageLoss: 0.5359 || Elapsed: 0.000781\n",
            "Epoch: 164 || Iter: 9/10 || Accuracy: 0.73 || AverageLoss: 0.6025 || Elapsed: 0.000758\n",
            "Epoch: 165 || Iter: 9/10 || Accuracy: 0.70 || AverageLoss: 0.5479 || Elapsed: 0.000888\n",
            "Epoch: 166 || Iter: 9/10 || Accuracy: 0.87 || AverageLoss: 0.5806 || Elapsed: 0.000772\n",
            "Epoch: 167 || Iter: 9/10 || Accuracy: 0.67 || AverageLoss: 0.5044 || Elapsed: 0.000764\n",
            "Epoch: 168 || Iter: 9/10 || Accuracy: 0.83 || AverageLoss: 0.6693 || Elapsed: 0.000771\n",
            "Epoch: 169 || Iter: 9/10 || Accuracy: 0.67 || AverageLoss: 0.5571 || Elapsed: 0.000913\n",
            "Epoch: 170 || Iter: 9/10 || Accuracy: 0.70 || AverageLoss: 0.5043 || Elapsed: 0.000747\n",
            "Epoch: 171 || Iter: 9/10 || Accuracy: 0.63 || AverageLoss: 0.5574 || Elapsed: 0.000752\n",
            "Epoch: 172 || Iter: 9/10 || Accuracy: 0.63 || AverageLoss: 0.5616 || Elapsed: 0.000776\n",
            "Epoch: 173 || Iter: 9/10 || Accuracy: 0.77 || AverageLoss: 0.5894 || Elapsed: 0.001114\n",
            "Epoch: 174 || Iter: 9/10 || Accuracy: 0.77 || AverageLoss: 0.5887 || Elapsed: 0.000812\n",
            "Epoch: 175 || Iter: 9/10 || Accuracy: 0.77 || AverageLoss: 0.6849 || Elapsed: 0.000790\n",
            "Epoch: 176 || Iter: 9/10 || Accuracy: 0.87 || AverageLoss: 0.5821 || Elapsed: 0.000951\n",
            "Epoch: 177 || Iter: 9/10 || Accuracy: 1.00 || AverageLoss: 0.4534 || Elapsed: 0.001095\n",
            "Epoch: 178 || Iter: 9/10 || Accuracy: 0.73 || AverageLoss: 0.4876 || Elapsed: 0.000781\n",
            "Epoch: 179 || Iter: 9/10 || Accuracy: 0.87 || AverageLoss: 0.6035 || Elapsed: 0.000753\n",
            "Epoch: 180 || Iter: 9/10 || Accuracy: 0.87 || AverageLoss: 0.5764 || Elapsed: 0.000759\n",
            "Epoch: 181 || Iter: 9/10 || Accuracy: 0.70 || AverageLoss: 0.5753 || Elapsed: 0.000781\n",
            "Epoch: 182 || Iter: 9/10 || Accuracy: 0.67 || AverageLoss: 0.5612 || Elapsed: 0.000737\n",
            "Epoch: 183 || Iter: 9/10 || Accuracy: 0.77 || AverageLoss: 0.5453 || Elapsed: 0.000827\n",
            "Epoch: 184 || Iter: 9/10 || Accuracy: 0.80 || AverageLoss: 0.4998 || Elapsed: 0.001541\n",
            "Epoch: 185 || Iter: 9/10 || Accuracy: 0.67 || AverageLoss: 0.5871 || Elapsed: 0.000784\n",
            "Epoch: 186 || Iter: 9/10 || Accuracy: 0.73 || AverageLoss: 0.5214 || Elapsed: 0.000772\n",
            "Epoch: 187 || Iter: 9/10 || Accuracy: 0.87 || AverageLoss: 0.4945 || Elapsed: 0.000745\n",
            "Epoch: 188 || Iter: 9/10 || Accuracy: 0.77 || AverageLoss: 0.5761 || Elapsed: 0.000729\n",
            "Epoch: 189 || Iter: 9/10 || Accuracy: 0.63 || AverageLoss: 0.5718 || Elapsed: 0.000774\n",
            "Epoch: 190 || Iter: 9/10 || Accuracy: 0.80 || AverageLoss: 0.6111 || Elapsed: 0.000761\n",
            "Epoch: 191 || Iter: 9/10 || Accuracy: 0.70 || AverageLoss: 0.6092 || Elapsed: 0.000759\n",
            "Epoch: 192 || Iter: 9/10 || Accuracy: 0.93 || AverageLoss: 0.4936 || Elapsed: 0.000781\n",
            "Epoch: 193 || Iter: 9/10 || Accuracy: 0.80 || AverageLoss: 0.5361 || Elapsed: 0.000829\n",
            "Epoch: 194 || Iter: 9/10 || Accuracy: 0.87 || AverageLoss: 0.5343 || Elapsed: 0.000766\n",
            "Epoch: 195 || Iter: 9/10 || Accuracy: 0.63 || AverageLoss: 0.5849 || Elapsed: 0.000761\n",
            "Epoch: 196 || Iter: 9/10 || Accuracy: 0.83 || AverageLoss: 0.5735 || Elapsed: 0.000799\n",
            "Epoch: 197 || Iter: 9/10 || Accuracy: 0.87 || AverageLoss: 0.5647 || Elapsed: 0.000891\n",
            "Epoch: 198 || Iter: 9/10 || Accuracy: 0.77 || AverageLoss: 0.5467 || Elapsed: 0.000844\n",
            "Epoch: 199 || Iter: 9/10 || Accuracy: 0.83 || AverageLoss: 0.5271 || Elapsed: 0.000851\n"
          ]
        }
      ],
      "source": [
        "epoch = 200\n",
        "batch_size = 30\n",
        "data_size = len(x)\n",
        "max_iters = data_size // batch_size\n",
        "total_loss = 0\n",
        "loss_count = 0\n",
        "loss_list = []\n",
        "\n",
        "for epoch in range(epoch):\n",
        "    model.train()\n",
        "\n",
        "    # Shuffle data\n",
        "    idx = np.random.permutation(data_size)\n",
        "    x = x[idx]\n",
        "    t = t[idx]\n",
        "\n",
        "    for iters in range(max_iters):\n",
        "        optimizer.zero_grad()\n",
        "        start_t = time.perf_counter()\n",
        "        batch_x = x[iters*batch_size:(iters+1)*batch_size]\n",
        "        batch_t = t[iters*batch_size:(iters+1)*batch_size]\n",
        "\n",
        "        # Numpy to Tensor\n",
        "        batch_x = torch.Tensor(batch_x)\n",
        "        batch_t = torch.Tensor(batch_t.argmax(axis=1)).type(torch.LongTensor)\n",
        "\n",
        "        output = model(batch_x)\n",
        "        loss = criterion(output, batch_t)\n",
        "        loss.backward()\n",
        "        # torch.nn.utils.clip_grad_norm_(model.parameters(), max_norm=0.5) # Gradient clipping\n",
        "        optimizer.step()\n",
        "\n",
        "        # # Weight Clipping\n",
        "        # for p in model.parameters():\n",
        "        #   p.data.clamp_(-0.01, 0.01)\n",
        "\n",
        "        total_loss += loss\n",
        "        loss_count += 1\n",
        "\n",
        "        ent_t = time.perf_counter()\n",
        "        iter_time = ent_t-start_t\n",
        "        if (iters+1) % 10 == 0:\n",
        "            avg_loss = total_loss / loss_count\n",
        "            output = output.data.numpy()\n",
        "            pred = np.argmax(output, axis=1)\n",
        "            acc = np.sum(pred==batch_t.data.numpy())/batch_size\n",
        "\n",
        "            print(f\"Epoch: {epoch} || Iter: {iters}/{max_iters} || Accuracy: {acc:.2f} || AverageLoss: {avg_loss:.4f} || Elapsed: {iter_time:.6f}\")\n",
        "            loss_list.append(avg_loss)\n",
        "            total_loss, loss_count = 0, 0\n"
      ]
    },
    {
      "cell_type": "code",
      "execution_count": null,
      "metadata": {
        "colab": {
          "base_uri": "https://localhost:8080/",
          "height": 300
        },
        "id": "AUCRlGDY-PG4",
        "outputId": "4794afb2-249d-49fa-8676-4de627557119"
      },
      "outputs": [
        {
          "data": {
            "image/png": "[encoded data removed]",
            "text/plain": [
              "<Figure size 432x288 with 2 Axes>"
            ]
          },
          "metadata": {
            "needs_background": "light",
            "tags": []
          },
          "output_type": "display_data"
        }
      ],
      "source": [
        "# Plot Loss ----------------------------\n",
        "fig, axes = plt.subplots(1,2)\n",
        "axes[0].plot(np.arange(len(loss_list)), loss_list, label='train')\n",
        "axes[0].set_title('Loss Plots', fontsize=20)\n",
        "axes[0].set_xlabel('Iteration (x10)')\n",
        "axes[0].set_ylabel('Loss')\n",
        "\n",
        "# Decision Boundary\n",
        "x, t = load_data(0) # Test dataset\n",
        "\n",
        "h = 0.001\n",
        "x_min, x_max = x[:, 0].min() - .1, x[:, 0].max() + .1\n",
        "y_min, y_max = x[:, 1].min() - .1, x[:, 1].max() + .1\n",
        "xx, yy = np.meshgrid(np.arange(x_min, x_max, h), np.arange(y_min, y_max, h))\n",
        "X = np.c_[xx.ravel(), yy.ravel()]\n",
        "X = torch.Tensor(X)\n",
        "\n",
        "with torch.no_grad():\n",
        "  model.eval() # turn off dropout and batch_norm\n",
        "  score = model.forward(X)\n",
        "predict_cls = np.argmax(score.data.numpy(), axis=1)\n",
        "Z = predict_cls.reshape(xx.shape)\n",
        "axes[1].set_title('Decision Boundary', fontsize=20)\n",
        "axes[1].contourf(xx, yy, Z)\n",
        "axes[1].axis('off')\n",
        "\n",
        "# Plot Data\n",
        "N = 100\n",
        "CLS_NUM = 3\n",
        "markers = ['o', 'x', '^']\n",
        "for i in range(CLS_NUM):\n",
        "    axes[1].scatter(x[i*N:(i+1)*N, 0], x[i*N:(i+1)*N, 1], s=40, marker=markers[i])\n",
        "plt.show()"
      ]
    },
    {
      "cell_type": "code",
      "execution_count": null,
      "metadata": {
        "id": "vxYD4Sin-RwT"
      },
      "outputs": [],
      "source": []
    }
  ],
  "metadata": {
    "colab": {
      "provenance": []
    },
    "kernelspec": {
      "display_name": "Python 3",
      "name": "python3"
    },
    "language_info": {
      "codemirror_mode": {
        "name": "ipython",
        "version": 3
      },
      "file_extension": ".py",
      "mimetype": "text/x-python",
      "name": "python",
      "nbconvert_exporter": "python",
      "pygments_lexer": "ipython3",
      "version": "3.11.7"
    }
  },
  "nbformat": 4,
  "nbformat_minor": 0
}
