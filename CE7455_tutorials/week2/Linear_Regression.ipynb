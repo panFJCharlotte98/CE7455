{
  "nbformat": 4,
  "nbformat_minor": 0,
  "metadata": {
    "colab": {
      "provenance": []
    },
    "kernelspec": {
      "name": "python3",
      "display_name": "Python 3"
    }
  },
  "cells": [
    {
      "cell_type": "markdown",
      "metadata": {
        "id": "az4KKPw_RAww"
      },
      "source": [
        "## 0. Import the necessary packet"
      ]
    },
    {
      "cell_type": "code",
      "metadata": {
        "id": "BKAtpQ6aN3GA"
      },
      "source": [
        "import torch\n",
        "import torch.nn as nn\n",
        "import matplotlib.pyplot as plt\n",
        "import numpy as np"
      ],
      "execution_count": null,
      "outputs": []
    },
    {
      "cell_type": "markdown",
      "metadata": {
        "id": "h7_6F21tR77R"
      },
      "source": [
        "## 1. Generate the toy data y=5x"
      ]
    },
    {
      "cell_type": "code",
      "metadata": {
        "id": "IxXsG_93OD_A"
      },
      "source": [
        "X = torch.randn(100, 1)\n",
        "y = 5*X + torch.randn(100, 1)\n"
      ],
      "execution_count": null,
      "outputs": []
    },
    {
      "cell_type": "markdown",
      "metadata": {
        "id": "zTqB0cC6SyRS"
      },
      "source": [
        "The code above would create this distribution"
      ]
    },
    {
      "cell_type": "code",
      "metadata": {
        "id": "9Tk3U-L7S6kh",
        "colab": {
          "base_uri": "https://localhost:8080/",
          "height": 296
        },
        "outputId": "905e0e89-d667-45e8-fec5-6147e323d232"
      },
      "source": [
        "plt.plot(X.numpy(), y.numpy(), 'o')\n",
        "plt.ylabel('y')\n",
        "plt.xlabel('x')"
      ],
      "execution_count": null,
      "outputs": [
        {
          "output_type": "execute_result",
          "data": {
            "text/plain": [
              "Text(0.5, 0, 'x')"
            ]
          },
          "metadata": {},
          "execution_count": 3
        },
        {
          "output_type": "display_data",
          "data": {
            "text/plain": [
              "<Figure size 432x288 with 1 Axes>"
            ],
            "image/png": "[encoded data removed]"
          },
          "metadata": {
            "needs_background": "light"
          }
        }
      ]
    },
    {
      "cell_type": "markdown",
      "metadata": {
        "id": "RpeBakGaTD2Z"
      },
      "source": [
        "##2. Model\n",
        "Now we define the linear regression model"
      ]
    },
    {
      "cell_type": "code",
      "metadata": {
        "id": "tKXJYv1JORcQ"
      },
      "source": [
        "class LinearRegression(nn.Module):\n",
        "  def __init__(self, input_size, output_size):\n",
        "    super().__init__()\n",
        "    self.linear = nn.Linear(input_size, output_size)\n",
        "  def forward(self, x):\n",
        "    pred = self.linear(x)\n",
        "    return pred"
      ],
      "execution_count": null,
      "outputs": []
    },
    {
      "cell_type": "markdown",
      "metadata": {
        "id": "G0GmgyerTOcB"
      },
      "source": [
        "Initialize the model"
      ]
    },
    {
      "cell_type": "code",
      "metadata": {
        "id": "fBwSU02tO8d5"
      },
      "source": [
        "model = LinearRegression(1, 1)"
      ],
      "execution_count": null,
      "outputs": []
    },
    {
      "cell_type": "markdown",
      "metadata": {
        "id": "P-h4SiWATSwY"
      },
      "source": [
        "Define the function to get the parameters of model and plot the line fit"
      ]
    },
    {
      "cell_type": "code",
      "metadata": {
        "id": "2syc6vpwPlox"
      },
      "source": [
        "def get_params(Model):\n",
        "  [w, b] = Model.parameters()\n",
        "  return (w[0][0].item(), b[0].item())\n",
        "def plot_fit(Model,X_axis):\n",
        "  w1, b1 = get_params(Model)\n",
        "  x1 = np.array([X_axis.min(), X_axis.max()])\n",
        "  y1 = w1*x1 + b1\n",
        "  plt.plot(x1, y1, 'r')\n",
        "  plt.scatter(X, y)\n",
        "  plt.show()"
      ],
      "execution_count": null,
      "outputs": []
    },
    {
      "cell_type": "markdown",
      "metadata": {
        "id": "7au6yJHTeYMS"
      },
      "source": [
        "## 3. Plot the intialized fit line"
      ]
    },
    {
      "cell_type": "code",
      "metadata": {
        "id": "NbiNZqILXaRB",
        "colab": {
          "base_uri": "https://localhost:8080/",
          "height": 265
        },
        "outputId": "f125fe84-9739-43c3-d364-38e31c96feec"
      },
      "source": [
        "plot_fit(model,X)"
      ],
      "execution_count": null,
      "outputs": [
        {
          "output_type": "display_data",
          "data": {
            "text/plain": [
              "<Figure size 432x288 with 1 Axes>"
            ],
            "image/png": "[encoded data removed]"
          },
          "metadata": {
            "needs_background": "light"
          }
        }
      ]
    },
    {
      "cell_type": "markdown",
      "metadata": {
        "id": "61_Fe8fHTY65"
      },
      "source": [
        "Now we define the optimizer/loss function"
      ]
    },
    {
      "cell_type": "code",
      "metadata": {
        "id": "Lx1ivETMOruh"
      },
      "source": [
        "criterion = nn.MSELoss()\n",
        "optimizer = torch.optim.SGD(model.parameters(), lr = 0.01)"
      ],
      "execution_count": null,
      "outputs": []
    },
    {
      "cell_type": "markdown",
      "metadata": {
        "id": "NFLSxDdNTiAJ"
      },
      "source": [
        "## 4. Traning"
      ]
    },
    {
      "cell_type": "code",
      "metadata": {
        "id": "cz6lU1szO2_C",
        "colab": {
          "base_uri": "https://localhost:8080/"
        },
        "outputId": "e6032580-0bb1-4157-fa89-a63205cac4e8"
      },
      "source": [
        "epochs = 1000\n",
        "losses = []\n",
        "for i in range(1,epochs+1):\n",
        "   y_pred = model.forward(X)\n",
        "   loss = criterion(y_pred, y)\n",
        "   if i%100==0 :\n",
        "    print(\"epoch:\", i, \"loss:\", loss.item())\n",
        "   losses.append(loss)\n",
        "   optimizer.zero_grad()\n",
        "   loss.backward()\n",
        "   optimizer.step()"
      ],
      "execution_count": null,
      "outputs": [
        {
          "output_type": "stream",
          "name": "stdout",
          "text": [
            "epoch: 100 loss: 2.2215654850006104\n",
            "epoch: 200 loss: 1.0278490781784058\n",
            "epoch: 300 loss: 0.9624325633049011\n",
            "epoch: 400 loss: 0.9588470458984375\n",
            "epoch: 500 loss: 0.958650529384613\n",
            "epoch: 600 loss: 0.9586397409439087\n",
            "epoch: 700 loss: 0.9586392045021057\n",
            "epoch: 800 loss: 0.9586390852928162\n",
            "epoch: 900 loss: 0.9586390852928162\n",
            "epoch: 1000 loss: 0.9586391448974609\n"
          ]
        }
      ]
    },
    {
      "cell_type": "markdown",
      "metadata": {
        "id": "bpr5PQnlSAMK"
      },
      "source": [
        "##5. Plot the result fit line"
      ]
    },
    {
      "cell_type": "code",
      "metadata": {
        "id": "MRexiacNSAx6",
        "colab": {
          "base_uri": "https://localhost:8080/",
          "height": 282
        },
        "outputId": "2e497458-c622-4d2c-8ff5-a0f84d1ed84b"
      },
      "source": [
        "w1, b1 = get_params(model)\n",
        "print(w1,b1)\n",
        "plot_fit(model,X)"
      ],
      "execution_count": null,
      "outputs": [
        {
          "output_type": "stream",
          "name": "stdout",
          "text": [
            "5.053060054779053 0.07318699359893799\n"
          ]
        },
        {
          "output_type": "display_data",
          "data": {
            "text/plain": [
              "<Figure size 432x288 with 1 Axes>"
            ],
            "image/png": "[encoded data removed]"
          },
          "metadata": {
            "needs_background": "light"
          }
        }
      ]
    }
  ]
}