{
  "cells": [
    {
      "cell_type": "markdown",
      "metadata": {
        "cell_id": "81e027952c094ce1b1742a1222b82d77",
        "deepnote_cell_type": "markdown",
        "id": "2SrkISjXoKK2"
      },
      "source": [
        "# Example: POS Tagging\n",
        "\n",
        "According to [Wikipedia](https://en.wikipedia.org/wiki/Part-of-speech_tagging):\n",
        "\n",
        "> Part-of-speech tagging (POS tagging or PoS tagging or POST) is the process of marking up a word in a text (corpus) as corresponding to a particular part of speech, based on both its definition and its context—i.e., its relationship with adjacent and related words in a phrase, sentence, or paragraph.\n",
        "\n",
        "Formally, given a sequence of words $\\mathbf{x} = \\left< x_1, x_2, \\ldots, x_t \\right>$ the goal is to learn a model $P(y_i \\,|\\, \\mathbf{x})$ where $y_i$ is the POS tag associated with the $x_i$.\n",
        "Note that the model is conditioned on all of $\\mathbf{x}$ not just the words that occur earlier in the sentence - this is because we can assume that the entire sentence is known at the time of tagging.\n",
        "\n",
        "### Dataset\n",
        "\n",
        "We will train our model on the [Engligh Dependencies Treebank](https://github.com/UniversalDependencies/UD_English).\n",
        "You can download this dataset by running the following lines:"
      ]
    },
    {
      "cell_type": "code",
      "execution_count": null,
      "metadata": {
        "colab": {
          "base_uri": "https://localhost:8080/",
          "height": 105
        },
        "id": "UwlQccQetgMq",
        "outputId": "502155bf-1d1b-4618-b2a0-c59b8b6fc1ed"
      },
      "outputs": [
        {
          "name": "stderr",
          "output_type": "stream",
          "text": [
            "Downloading...\n",
            "From: https://raw.githubusercontent.com/UniversalDependencies/UD_English-EWT/master/en_ewt-ud-dev.conllu\n",
            "To: /content/en_ewt-ud-dev.conllu\n",
            "1.76MB [00:00, 12.1MB/s]\n"
          ]
        },
        {
          "data": {
            "application/vnd.google.colaboratory.intrinsic+json": {
              "type": "string"
            },
            "text/plain": [
              "'en_ewt-ud-dev.conllu'"
            ]
          },
          "execution_count": 19,
          "metadata": {},
          "output_type": "execute_result"
        }
      ],
      "source": [
        "import gdown\n",
        "url = \"https://raw.githubusercontent.com/UniversalDependencies/UD_English-EWT/master/en_ewt-ud-dev.conllu\"\n",
        "output = \"en_ewt-ud-dev.conllu\"\n",
        "gdown.download(url, output, quiet=False)"
      ]
    },
    {
      "cell_type": "code",
      "execution_count": null,
      "metadata": {
        "colab": {
          "base_uri": "https://localhost:8080/",
          "height": 105
        },
        "id": "uQimwagRw1EI",
        "outputId": "eb6f90af-d1c7-4247-b531-a03c0a09a25a"
      },
      "outputs": [
        {
          "name": "stderr",
          "output_type": "stream",
          "text": [
            "Downloading...\n",
            "From: https://raw.githubusercontent.com/UniversalDependencies/UD_English-EWT/master/en_ewt-ud-test.conllu\n",
            "To: /content/en_ewt-ud-test.conllu\n",
            "1.76MB [00:00, 12.4MB/s]\n"
          ]
        },
        {
          "data": {
            "application/vnd.google.colaboratory.intrinsic+json": {
              "type": "string"
            },
            "text/plain": [
              "'en_ewt-ud-test.conllu'"
            ]
          },
          "execution_count": 20,
          "metadata": {},
          "output_type": "execute_result"
        }
      ],
      "source": [
        "url = \"https://raw.githubusercontent.com/UniversalDependencies/UD_English-EWT/master/en_ewt-ud-test.conllu\"\n",
        "output = \"en_ewt-ud-test.conllu\"\n",
        "gdown.download(url, output, quiet=False)"
      ]
    },
    {
      "cell_type": "code",
      "execution_count": null,
      "metadata": {
        "colab": {
          "base_uri": "https://localhost:8080/",
          "height": 105
        },
        "id": "ddJ8LKLIw-Rn",
        "outputId": "a598b0ff-67d1-4340-ca4c-187a680bf36d"
      },
      "outputs": [
        {
          "name": "stderr",
          "output_type": "stream",
          "text": [
            "Downloading...\n",
            "From: https://raw.githubusercontent.com/UniversalDependencies/UD_English-EWT/master/en_ewt-ud-train.conllu\n",
            "To: /content/en_ewt-ud-train.conllu\n",
            "13.8MB [00:00, 47.2MB/s]\n"
          ]
        },
        {
          "data": {
            "application/vnd.google.colaboratory.intrinsic+json": {
              "type": "string"
            },
            "text/plain": [
              "'en_ewt-ud-train.conllu'"
            ]
          },
          "execution_count": 21,
          "metadata": {},
          "output_type": "execute_result"
        }
      ],
      "source": [
        "url = \"https://raw.githubusercontent.com/UniversalDependencies/UD_English-EWT/master/en_ewt-ud-train.conllu\"\n",
        "output = \"en_ewt-ud-train.conllu\"\n",
        "gdown.download(url, output, quiet=False)"
      ]
    },
    {
      "cell_type": "markdown",
      "metadata": {
        "cell_id": "5c715f5de80e4dd6bc04fff44ffb8ff8",
        "deepnote_cell_type": "markdown",
        "id": "TTl_3ZhfoKK6"
      },
      "source": [
        "The individual data instances come in chunks seperated by blank lines. Each chunk consists of a few starting comments, and then lines of tab-seperated fields. The fields we are interested in are the 1st and 3rd, which contain the tokenized word and POS tag respectively. An example chunk is shown below:\n",
        "\n",
        "```\n",
        "# sent_id = answers-20111107193044AAvUYBv_ans-0023\n",
        "# text = Hope you have a crapload of fun!\n",
        "1\tHope\thope\tVERB\tVBP\tMood=Ind|Tense=Pres|VerbForm=Fin\t0\troot\t0:root\t_\n",
        "2\tyou\tyou\tPRON\tPRP\tCase=Nom|Person=2|PronType=Prs\t3\tnsubj\t3:nsubj\t_\n",
        "3\thave\thave\tVERB\tVBP\tMood=Ind|Tense=Pres|VerbForm=Fin\t1\tccomp\t1:ccomp\t_\n",
        "4\ta\ta\tDET\tDT\tDefinite=Ind|PronType=Art\t5\tdet\t5:det\t_\n",
        "5\tcrapload\tcrapload\tNOUN\tNN\tNumber=Sing\t3\tobj\t3:obj\t_\n",
        "6\tof\tof\tADP\tIN\t_\t7\tcase\t7:case\t_\n",
        "7\tfun\tfun\tNOUN\tNN\tNumber=Sing\t5\tnmod\t5:nmod\tSpaceAfter=No\n",
        "8\t!\t!\tPUNCT\t.\t_\t1\tpunct\t1:punct\t_\n",
        "\n",
        "```"
      ]
    },
    {
      "cell_type": "markdown",
      "metadata": {
        "cell_id": "8889552cda3e4df58ed9302032585655",
        "deepnote_cell_type": "markdown",
        "id": "vBxR-xVLoKK6"
      },
      "source": [
        "As with most real world data, we are going to need to do some preprocessing before we can use it. The first thing we are going to need is a `Vocabulary` to map words/POS tags to integer ids. Here is a more full-featured implementation than what we used in the first tutorial:"
      ]
    },
    {
      "cell_type": "code",
      "execution_count": null,
      "metadata": {
        "cell_id": "717aa9219d174df8b1b60e34916abc78",
        "deepnote_cell_type": "code",
        "id": "aOkJywlDoKK6"
      },
      "outputs": [],
      "source": [
        "from collections import Counter\n",
        "\n",
        "\n",
        "class Vocab(object):\n",
        "    def __init__(self, iter, max_size=None, sos_token=None, eos_token=None, unk_token=None):\n",
        "        \"\"\"Initialize the vocabulary.\n",
        "        Args:\n",
        "            iter: An iterable which produces sequences of tokens used to update\n",
        "                the vocabulary.\n",
        "            max_size: (Optional) Maximum number of tokens in the vocabulary.\n",
        "            sos_token: (Optional) Token denoting the start of a sequence.\n",
        "            eos_token: (Optional) Token denoting the end of a sequence.\n",
        "            unk_token: (Optional) Token denoting an unknown element in a\n",
        "                sequence.\n",
        "        \"\"\"\n",
        "        self.max_size = max_size\n",
        "        self.pad_token = '<pad>'\n",
        "        self.sos_token = sos_token\n",
        "        self.eos_token = eos_token\n",
        "        self.unk_token = unk_token\n",
        "\n",
        "        # Add special tokens.\n",
        "        id2word = [self.pad_token]\n",
        "        if sos_token is not None:\n",
        "            id2word.append(self.sos_token)\n",
        "        if eos_token is not None:\n",
        "            id2word.append(self.eos_token)\n",
        "        if unk_token is not None:\n",
        "            id2word.append(self.unk_token)\n",
        "\n",
        "        # Update counter with token counts.\n",
        "        counter = Counter()\n",
        "        for x in iter:\n",
        "            counter.update(x)\n",
        "\n",
        "        # Extract lookup tables.\n",
        "        if max_size is not None:\n",
        "            counts = counter.most_common(max_size)\n",
        "        else:\n",
        "            counts = counter.items()\n",
        "            counts = sorted(counts, key=lambda x: x[1], reverse=True)\n",
        "        words = [x[0] for x in counts]\n",
        "        id2word.extend(words)\n",
        "        word2id = {x: i for i, x in enumerate(id2word)}\n",
        "\n",
        "        self._id2word = id2word\n",
        "        self._word2id = word2id\n",
        "\n",
        "    def __len__(self):\n",
        "        return len(self._id2word)\n",
        "\n",
        "    def word2id(self, word):\n",
        "        \"\"\"Map a word in the vocabulary to its unique integer id.\n",
        "        Args:\n",
        "            word: Word to lookup.\n",
        "        Returns:\n",
        "            id: The integer id of the word being looked up.\n",
        "        \"\"\"\n",
        "        if word in self._word2id:\n",
        "            return self._word2id[word]\n",
        "        elif self.unk_token is not None:\n",
        "            return self._word2id[self.unk_token]\n",
        "        else:\n",
        "            raise KeyError('Word \"%s\" not in vocabulary.' % word)\n",
        "\n",
        "    def id2word(self, id):\n",
        "        \"\"\"Map an integer id to its corresponding word in the vocabulary.\n",
        "        Args:\n",
        "            id: Integer id of the word being looked up.\n",
        "        Returns:\n",
        "            word: The corresponding word.\n",
        "        \"\"\"\n",
        "        return self._id2word[id]"
      ]
    },
    {
      "cell_type": "markdown",
      "metadata": {
        "cell_id": "d23e9223e56c48128ccc2da382f3c39e",
        "deepnote_cell_type": "markdown",
        "id": "Tqr8Hw21oKK7"
      },
      "source": [
        "Now we need to parse the .conllu files and extract the data needed for our model. The good news is that the file is only a few megabytes so we can store everything in memory. Rather than creating a generator from scratch like we did in the previous tutorial, we will instead showcase the `torch.utils.data.Dataset` class. There are two main things that a `Dataset` must have:\n",
        "\n",
        "1. A `__len__` method which let's you know how many data points are in the dataset.\n",
        "2. A `__getitem__` method which is used to support integer indexing.\n",
        "\n",
        "Here's an example of how to define these methods for the English Dependencies Treebank data."
      ]
    },
    {
      "cell_type": "code",
      "execution_count": null,
      "metadata": {
        "cell_id": "3867af02ac2644839d8919751374f0f8",
        "deepnote_cell_type": "code",
        "id": "1zcRDR7ooKK7"
      },
      "outputs": [],
      "source": [
        "import re\n",
        "from torch.utils.data import Dataset\n",
        "\n",
        "\n",
        "class Annotation(object):\n",
        "    def __init__(self):\n",
        "        \"\"\"A helper object for storing annotation data.\"\"\"\n",
        "        self.tokens = []\n",
        "        self.pos_tags = []\n",
        "\n",
        "\n",
        "class CoNLLDataset(Dataset):\n",
        "    def __init__(self, fname):\n",
        "        \"\"\"Initializes the CoNLLDataset.\n",
        "        Args:\n",
        "            fname: The .conllu file to load data from.\n",
        "        \"\"\"\n",
        "        self.fname = fname\n",
        "        self.annotations = self.process_conll_file(fname)\n",
        "        self.token_vocab = Vocab([x.tokens for x in self.annotations],\n",
        "                                 unk_token='<unk>')\n",
        "        self.pos_vocab = Vocab([x.pos_tags for x in self.annotations])\n",
        "\n",
        "    def __len__(self):\n",
        "        return len(self.annotations)\n",
        "\n",
        "    def __getitem__(self, idx):\n",
        "        annotation = self.annotations[idx]\n",
        "        input = [self.token_vocab.word2id(x) for x in annotation.tokens]\n",
        "        target = [self.pos_vocab.word2id(x) for x in annotation.pos_tags]\n",
        "        return input, target\n",
        "\n",
        "    def process_conll_file(self, fname):\n",
        "        # Read the entire file.\n",
        "        with open(fname, 'r') as f:\n",
        "            raw_text = f.read()\n",
        "        # Split into chunks on blank lines.\n",
        "        chunks = re.split(r'^\\n', raw_text, flags=re.MULTILINE)\n",
        "        # Process each chunk into an annotation.\n",
        "        annotations = []\n",
        "        for chunk in chunks:\n",
        "            annotation = Annotation()\n",
        "            lines = chunk.split('\\n')\n",
        "            # Iterate over all lines in the chunk.\n",
        "            for line in lines:\n",
        "                # If line is empty ignore it.\n",
        "                if len(line)==0:\n",
        "                    continue\n",
        "                # If line is a commend ignore it.\n",
        "                if line[0] == '#':\n",
        "                    continue\n",
        "                # Otherwise split on tabs and retrieve the token and the\n",
        "                # POS tag fields.\n",
        "                fields = line.split('\\t')\n",
        "                annotation.tokens.append(fields[1])\n",
        "                annotation.pos_tags.append(fields[3])\n",
        "            if (len(annotation.tokens) > 0) and (len(annotation.pos_tags) > 0):\n",
        "                annotations.append(annotation)\n",
        "        return annotations"
      ]
    },
    {
      "cell_type": "markdown",
      "metadata": {
        "cell_id": "85c38fbb082a410bb13af9edf4858c1d",
        "deepnote_cell_type": "markdown",
        "id": "TaU7d1LpoKK7"
      },
      "source": [
        "And let's see how this is used in practice."
      ]
    },
    {
      "cell_type": "code",
      "execution_count": null,
      "metadata": {
        "cell_id": "9a068884e273430c86cd54848222fac2",
        "deepnote_cell_type": "code",
        "id": "YGQ6_s49oKK7"
      },
      "outputs": [],
      "source": [
        "dataset = CoNLLDataset('en_ewt-ud-train.conllu')"
      ]
    },
    {
      "cell_type": "code",
      "execution_count": null,
      "metadata": {
        "cell_id": "bed53de2b73d43de8965fb23d2a5a717",
        "colab": {
          "base_uri": "https://localhost:8080/"
        },
        "deepnote_cell_type": "code",
        "id": "LPeOna-roKK7",
        "outputId": "c38a97f4-db9f-47ce-929c-a935fd817bdf"
      },
      "outputs": [
        {
          "name": "stdout",
          "output_type": "stream",
          "text": [
            "Example input: [266, 16, 5249, 45, 295, 703, 1154, 4233, 10099, 595, 16, 10100, 4, 3, 6865, 35, 3, 6866, 10, 3, 498, 8, 6867, 4, 758, 3, 2224, 1605, 2]\n",
            "\n",
            "Example target: [9, 2, 9, 2, 7, 1, 3, 9, 9, 9, 2, 9, 2, 6, 1, 5, 6, 1, 5, 6, 1, 5, 9, 2, 5, 6, 7, 1, 2]\n",
            "\n",
            "Translated input: Al - Zaman : American forces killed Shaikh Abdullah al - Ani , the preacher at the mosque in the town of Qaim , near the Syrian border .\n",
            "\n",
            "Translated target: PROPN PUNCT PROPN PUNCT ADJ NOUN VERB PROPN PROPN PROPN PUNCT PROPN PUNCT DET NOUN ADP DET NOUN ADP DET NOUN ADP PROPN PUNCT ADP DET ADJ NOUN PUNCT\n",
            "\n"
          ]
        }
      ],
      "source": [
        "input, target = dataset[0]\n",
        "print('Example input: %s\\n' % input)\n",
        "print('Example target: %s\\n' % target)\n",
        "print('Translated input: %s\\n' % ' '.join(dataset.token_vocab.id2word(x) for x in input))\n",
        "print('Translated target: %s\\n' % ' '.join(dataset.pos_vocab.id2word(x) for x in target))"
      ]
    },
    {
      "cell_type": "markdown",
      "metadata": {
        "cell_id": "1cc73f92ecd64f0289e61aeb8077979b",
        "deepnote_cell_type": "markdown",
        "id": "Ycbj4TF6oKK8"
      },
      "source": [
        "The main upshot of using the `Dataset` class is that it makes accessing training/test observations very simple. Accordingly, this makes batch generation easy since all we need to do is randomly choose numbers and then grab those observations from the dataset - PyTorch includes a `torch.utils.data.DataLoader` object which handles this for you. In fact, if we were not working with sequential data we would be able to proceed straight to the modeling step from here. However, since we are working with sequential data there is one last pesky issue we need to handle - padding.\n",
        "\n",
        "The issue is that when we are given a batch of outputs from `CoNLLDataset`, the sequences in the batch are likely to all be of different length. To deal with this, we define a custom `collate_annotations` function which adds padding to the end of the sequences in the batch so that they are all the same length. In addition, we'll have this function take care of loading the data into tensors and ensuring that the tensor dimensions are in the order expected by PyTorch.\n",
        "\n",
        "Oh and one last annoying thing - to deal with some of the issues caused by using padded data we will be using a function called `torch.nn.utils.rnn.pack_padded_sequences` in our model later on. All you need to know now is that this function expects our sequences in the batch to be sorted in terms of descending length, and that we know the lengths of each sequence. So we will make sure that the `collate_annotations` function performs this sorting for us and returns the sequence lengths in addition to the input and target tensors."
      ]
    },
    {
      "cell_type": "code",
      "execution_count": null,
      "metadata": {
        "cell_id": "8f553fd12b5545428c86fd7e29b476cb",
        "deepnote_cell_type": "code",
        "id": "XPBu1WeBoKK8"
      },
      "outputs": [],
      "source": [
        "import torch\n",
        "from torch.autograd import Variable\n",
        "\n",
        "\n",
        "def pad(sequences, max_length, pad_value=0):\n",
        "    \"\"\"Pads a list of sequences.\n",
        "    Args:\n",
        "        sequences: A list of sequences to be padded.\n",
        "        max_length: The length to pad to.\n",
        "        pad_value: The value used for padding.\n",
        "    Returns:\n",
        "        A list of padded sequences.\n",
        "    \"\"\"\n",
        "    out = []\n",
        "    for sequence in sequences:\n",
        "        padded = sequence + [0]*(max_length - len(sequence))\n",
        "        out.append(padded)\n",
        "    return out\n",
        "\n",
        "\n",
        "def collate_annotations(batch):\n",
        "    \"\"\"Function used to collate data returned by CoNLLDataset.\"\"\"\n",
        "    # Get inputs, targets, and lengths.\n",
        "    inputs, targets = zip(*batch)\n",
        "    lengths = [len(x) for x in inputs]\n",
        "    # Sort by length.\n",
        "    sort = sorted(zip(inputs, targets, lengths),\n",
        "                  key=lambda x: x[2],\n",
        "                  reverse=True)\n",
        "    inputs, targets, lengths = zip(*sort)\n",
        "    # Pad.\n",
        "    max_length = max(lengths)\n",
        "    inputs = pad(inputs, max_length)\n",
        "    targets = pad(targets, max_length)\n",
        "    # Transpose.\n",
        "    inputs = list(map(list, zip(*inputs)))\n",
        "    targets = list(map(list, zip(*targets)))\n",
        "    # Convert to PyTorch variables.\n",
        "    inputs = Variable(torch.LongTensor(inputs))\n",
        "    targets = Variable(torch.LongTensor(targets))\n",
        "    lengths = Variable(torch.LongTensor(lengths))\n",
        "    if torch.cuda.is_available():\n",
        "        inputs = inputs.cuda()\n",
        "        targets = targets.cuda()\n",
        "        lengths = lengths.cuda()\n",
        "    return inputs, targets, lengths"
      ]
    },
    {
      "cell_type": "markdown",
      "metadata": {
        "cell_id": "f7ec9ddc62364b94b6d67469e007f3cf",
        "deepnote_cell_type": "markdown",
        "id": "VOYmULYaoKK9"
      },
      "source": [
        "Again let's see how this is used in practice:"
      ]
    },
    {
      "cell_type": "code",
      "execution_count": null,
      "metadata": {
        "cell_id": "e202cebd5a3247e9876364f931771ad1",
        "colab": {
          "base_uri": "https://localhost:8080/"
        },
        "deepnote_cell_type": "code",
        "id": "m7REdnPCoKK9",
        "outputId": "59fd325f-47d6-480e-dd6c-1c611bbf0ca6",
        "scrolled": true
      },
      "outputs": [
        {
          "name": "stdout",
          "output_type": "stream",
          "text": [
            "Inputs: tensor([[   28,  1083,   266,    28,    30,   106,    68,   266,   499,   625,\n",
            "         10103,   121,  1212,    28,    28,   108],\n",
            "        [10106,     3,    16,  1713,  6874,  6878, 10115,    16,  1030,   106,\n",
            "            45, 10123,     8,  3581,  1081,  1606],\n",
            "        [   10,  5252,  5249,  4237,    11,    11,    46,  5249,  4239,  1712,\n",
            "           555,     4,    69,    60,    19,    54],\n",
            "        [  180,    19,    45,     8,    10,     3,   185,    45,    51,     8,\n",
            "          1849,  6874,    60,  1370,   159,    41],\n",
            "        [   11,   343,   295, 10118, 10125,   759,   138,  5253, 10121,     7,\n",
            "          2018,  3111,   159,    10,   450,    19],\n",
            "        [ 4234,   163,   703,  3111,   180,  1031,     8,  1154,     7, 10101,\n",
            "            12,     4,   450,     3,    44, 10111],\n",
            "        [    5,     5,  1154,  2018,     6,    10,     3,     7, 10122, 10102,\n",
            "            31,   151,    44, 10112,     3,     3],\n",
            "        [    3,   408,  4233,    12,    50,     3,  2755,   807,  3112,    32,\n",
            "            51,   219,   144,     6,   607,   582],\n",
            "        [  142,  1470, 10099,  2756,    52,   207,  1851,     8,     6,    22,\n",
            "         10104,  1714,   704,   595,     8,    21],\n",
            "        [ 1029,    10,   595,    51,  6875,     8,    72,     3,    66,  3580,\n",
            "            61,    60,     8,    16,    52,    66],\n",
            "        [    4,  6871,    16,  4238,  2225,  2756,    60, 10116,   738,   140,\n",
            "           172,  2469,     3,  1290,  2019,  3110],\n",
            "        [   57,     6, 10100,  1607,   905,    10,  6873,  5254,   231,  1469,\n",
            "          1080,   136,  5250, 10113,  1371,  2020],\n",
            "        [   25,  4235,     4,  2021,     4,     3,   320,  1852,    31,    14,\n",
            "          3581,    31,     8,     8,     2,     2],\n",
            "        [   48,    61,     3,    10,    72,  1372,    14,   132,    60,   154,\n",
            "          1370,    84,     3,     3,     0,     0],\n",
            "        [   22,  1155,  6865,  5255,    23,    29,     3, 10117,    20,     5,\n",
            "            10,    22, 10105,  1082,     0,     0],\n",
            "        [   62,  3581,    35,     4,    20,  3113,    86,    82,    63,   216,\n",
            "          1850, 10124,    49,     2,     0,     0],\n",
            "        [  309,     4,     3, 10119,     3,     5,   660,    10,   111,     2,\n",
            "             2,     2,     0,     0,     0,     0],\n",
            "        [ 5251,     9,  6866,    58,  6876,     3,    10,  5255,   234,   626,\n",
            "             0,     0,     0,     0,     0,     0],\n",
            "        [10107,    96,    10,    51,    14,  2226,   904,     2,     2,     0,\n",
            "             0,     0,     0,     0,     0,     0],\n",
            "        [10108,    36,     3,    70,  6877,    16,     2,     0,     0,     0,\n",
            "             0,     0,     0,     0,     0,     0],\n",
            "        [10109,    38,   498,     7, 10126,  1715,     0,     0,     0,     0,\n",
            "             0,     0,     0,     0,     0,     0],\n",
            "        [ 6868,   181,     8,   378,     6,     8,     0,     0,     0,     0,\n",
            "             0,     0,     0,     0,     0,     0],\n",
            "        [   35,     3,  6867,  2022,  5256,     3,     0,     0,     0,     0,\n",
            "             0,     0,     0,     0,     0,     0],\n",
            "        [    7,   705,     4,    10,   906,   321,     0,     0,     0,     0,\n",
            "             0,     0,     0,     0,     0,     0],\n",
            "        [  362,    12,   758,     3,    69,     2,     0,     0,     0,     0,\n",
            "             0,     0,     0,     0,     0,     0],\n",
            "        [  596,     3,     3,   207,    10,    27,     0,     0,     0,     0,\n",
            "             0,     0,     0,     0,     0,     0],\n",
            "        [  513,  6872,  2224,     8,     2,     0,     0,     0,     0,     0,\n",
            "             0,     0,     0,     0,     0,     0],\n",
            "        [    8,   683,  1605, 10120,     0,     0,     0,     0,     0,     0,\n",
            "             0,     0,     0,     0,     0,     0],\n",
            "        [    3,     5,     2,     2,     0,     0,     0,     0,     0,     0,\n",
            "             0,     0,     0,     0,     0,     0],\n",
            "        [10110, 10114,     0,     0,     0,     0,     0,     0,     0,     0,\n",
            "             0,     0,     0,     0,     0,     0],\n",
            "        [ 6869,     3,     0,     0,     0,     0,     0,     0,     0,     0,\n",
            "             0,     0,     0,     0,     0,     0],\n",
            "        [  100,   555,     0,     0,     0,     0,     0,     0,     0,     0,\n",
            "             0,     0,     0,     0,     0,     0],\n",
            "        [   10,   409,     0,     0,     0,     0,     0,     0,     0,     0,\n",
            "             0,     0,     0,     0,     0,     0],\n",
            "        [    3,    78,     0,     0,     0,     0,     0,     0,     0,     0,\n",
            "             0,     0,     0,     0,     0,     0],\n",
            "        [ 6870,  4236,     0,     0,     0,     0,     0,     0,     0,     0,\n",
            "             0,     0,     0,     0,     0,     0],\n",
            "        [    2,     2,     0,     0,     0,     0,     0,     0,     0,     0,\n",
            "             0,     0,     0,     0,     0,     0]])\n",
            "\n",
            "Targets: tensor([[ 6, 14,  9,  6,  2,  6,  4,  9,  5,  2,  9,  5, 13,  6,  6,  4],\n",
            "        [ 9,  6,  2,  1,  9,  1,  3,  2,  9,  6,  2,  9,  5,  1,  7,  3],\n",
            "        [ 5,  1,  9,  1,  8,  8,  4,  9,  1,  1,  7,  2,  4,  8,  8, 14],\n",
            "        [ 9,  8,  2,  5,  5,  6, 10,  2,  8,  5,  1,  9,  8,  3,  8,  4],\n",
            "        [ 8, 10,  7,  9,  7,  7, 10,  1,  3,  6,  3,  9,  8,  5,  3,  8],\n",
            "        [ 7,  3,  1,  9,  9,  1,  5,  3,  6,  7, 14,  2,  3,  6,  5,  3],\n",
            "        [ 5, 12,  3,  3, 11,  5,  6,  6,  7,  1,  4, 13,  5,  9,  6,  6],\n",
            "        [ 6,  3,  9, 14,  3,  6,  9,  1,  1,  8,  8,  1, 13, 11,  1,  1],\n",
            "        [ 9,  1,  9,  1,  6,  1,  1,  5, 11,  8,  3,  1,  1,  9,  5,  5],\n",
            "        [ 9, 14,  9,  8, 10,  5,  4,  6,  4,  3,  5,  8,  5,  2,  6,  4],\n",
            "        [ 2,  3,  2,  3,  7,  1,  8,  9,  1,  4, 13,  3,  6,  9,  1,  1],\n",
            "        [10, 11,  9, 13,  1,  5, 10,  7, 14,  1,  7, 14,  9,  1,  1,  1],\n",
            "        [ 4,  3,  2,  1,  2,  6,  3,  9,  4,  5,  1,  4,  5,  5,  2,  2],\n",
            "        [ 8,  5,  6,  5,  4,  1,  5, 14,  8,  1,  3,  8,  6,  6,  0,  0],\n",
            "        [ 8,  1,  1,  9,  8, 14,  6,  3,  5, 12,  5,  8,  9,  1,  0,  0],\n",
            "        [14,  1,  5,  2,  5,  3,  7,  4,  4,  3,  9,  3,  2,  2,  0,  0],\n",
            "        [ 3,  2,  6, 14,  6,  5,  1,  5,  1,  2,  2,  2,  0,  0,  0,  0],\n",
            "        [ 9,  4,  1,  4,  1,  6,  5,  9, 10,  2,  0,  0,  0,  0,  0,  0],\n",
            "        [ 9, 15,  5,  8,  5,  1,  9,  2,  2,  0,  0,  0,  0,  0,  0,  0],\n",
            "        [ 9,  8,  6,  3,  9,  2,  2,  0,  0,  0,  0,  0,  0,  0,  0,  0],\n",
            "        [10, 12,  1,  6,  1,  1,  0,  0,  0,  0,  0,  0,  0,  0,  0,  0],\n",
            "        [ 3,  3,  5,  7, 11,  5,  0,  0,  0,  0,  0,  0,  0,  0,  0,  0],\n",
            "        [ 5,  6,  9,  1, 10,  6,  0,  0,  0,  0,  0,  0,  0,  0,  0,  0],\n",
            "        [ 6,  1,  2,  5,  3,  1,  0,  0,  0,  0,  0,  0,  0,  0,  0,  0],\n",
            "        [ 7, 14,  5,  6,  4,  2,  0,  0,  0,  0,  0,  0,  0,  0,  0,  0],\n",
            "        [ 1,  6,  6,  1,  5,  2,  0,  0,  0,  0,  0,  0,  0,  0,  0,  0],\n",
            "        [ 1,  9,  7,  5,  2,  0,  0,  0,  0,  0,  0,  0,  0,  0,  0,  0],\n",
            "        [ 5,  3,  1,  1,  0,  0,  0,  0,  0,  0,  0,  0,  0,  0,  0,  0],\n",
            "        [ 6, 12,  2,  2,  0,  0,  0,  0,  0,  0,  0,  0,  0,  0,  0,  0],\n",
            "        [ 9,  3,  0,  0,  0,  0,  0,  0,  0,  0,  0,  0,  0,  0,  0,  0],\n",
            "        [ 1,  6,  0,  0,  0,  0,  0,  0,  0,  0,  0,  0,  0,  0,  0,  0],\n",
            "        [10,  7,  0,  0,  0,  0,  0,  0,  0,  0,  0,  0,  0,  0,  0,  0],\n",
            "        [ 5,  1,  0,  0,  0,  0,  0,  0,  0,  0,  0,  0,  0,  0,  0,  0],\n",
            "        [ 6, 10,  0,  0,  0,  0,  0,  0,  0,  0,  0,  0,  0,  0,  0,  0],\n",
            "        [ 1,  7,  0,  0,  0,  0,  0,  0,  0,  0,  0,  0,  0,  0,  0,  0],\n",
            "        [ 2,  2,  0,  0,  0,  0,  0,  0,  0,  0,  0,  0,  0,  0,  0,  0]])\n",
            "\n",
            "Lengths: tensor([36, 36, 29, 29, 27, 26, 20, 19, 19, 18, 17, 17, 16, 16, 13, 13])\n",
            "\n"
          ]
        }
      ],
      "source": [
        "from torch.utils.data import DataLoader\n",
        "\n",
        "\n",
        "for inputs, targets, lengths in DataLoader(dataset, batch_size=16, collate_fn=collate_annotations):\n",
        "    print('Inputs: %s\\n' % inputs.data)\n",
        "    print('Targets: %s\\n' % targets.data)\n",
        "    print('Lengths: %s\\n' % lengths.data)\n",
        "\n",
        "    # Usually we'd keep sampling batches, but here we'll just break\n",
        "    break"
      ]
    },
    {
      "cell_type": "markdown",
      "metadata": {
        "cell_id": "17e7685b51374eb4b5d988e5e70feb4f",
        "deepnote_cell_type": "markdown",
        "id": "dvxXuiKLoKK9"
      },
      "source": [
        "### Model\n",
        "\n",
        "We will use the following architecture:\n",
        "\n",
        "1. Embed the input words into a 200 dimensional vector space.\n",
        "2. Feed the word embeddings into a (bidirectional) GRU.\n",
        "3. Feed the GRU outputs into a fully connected layer.\n",
        "4. Use a softmax activation to get the probabilities of the different labels.\n",
        "\n",
        "There is one complication which arises during the forward computation. As was noted in the dataset section, the input sequences are padded. This causes an issue since we do not want to waste computational resources feeding these pad tokens into the RNN. In PyTorch, we can deal with this issue by converting the sequence data into a  `torch.nn.utils.rnn.PackedSequence` object before feeding it into the RNN. In essence, a `PackedSequence` flattens the sequence and batch dimensions of a tensor, and also contains metadata so that PyTorch knows when to re-initialize the hidden state when fed into a recurrent layer. If this seems confusing, do not worry. To use the `PackedSequence` in practice you will almost always perform the following steps:\n",
        "\n",
        "1. Before feeding data into a recurrent layer, transform it into a `PackedSequence` by using the function `torch.nn.utils.rnn.pack_padded_sequence()`.\n",
        "2. Feed the `PackedSequence` into the recurrent layer.\n",
        "3. Transform the output back into a regular tensor by using the function `torch.nn.utils.rnn.pad_packed_sequence()`.\n",
        "\n",
        "See the model implementation below for a working example:"
      ]
    },
    {
      "cell_type": "code",
      "execution_count": null,
      "metadata": {
        "cell_id": "6b0e4a55ef8e4cd187c80f26f64ccebc",
        "deepnote_cell_type": "code",
        "id": "xqI81PhsoKK9"
      },
      "outputs": [],
      "source": [
        "from torch import nn\n",
        "from torch.nn.utils.rnn import pack_padded_sequence, pad_packed_sequence\n",
        "\n",
        "class Tagger(nn.Module):\n",
        "    def __init__(self,\n",
        "                 input_vocab_size,\n",
        "                 output_vocab_size,\n",
        "                 embedding_dim=64,\n",
        "                 hidden_size=64,\n",
        "                 bidirectional=True):\n",
        "        \"\"\"Initializes the tagger.\n",
        "\n",
        "        Args:\n",
        "            input_vocab_size: Size of the input vocabulary.\n",
        "            output_vocab_size: Size of the output vocabulary.\n",
        "            embedding_dim: Dimension of the word embeddings.\n",
        "            hidden_size: Number of units in each LSTM hidden layer.\n",
        "            bidirectional: Whether or not to use a bidirectional rnn.\n",
        "        \"\"\"\n",
        "        # Always do this!!!\n",
        "        super(Tagger, self).__init__()\n",
        "\n",
        "        # Store parameters\n",
        "        self.input_vocab_size = input_vocab_size\n",
        "        self.output_vocab_size = output_vocab_size\n",
        "        self.embedding_dim = embedding_dim\n",
        "        self.hidden_size = hidden_size\n",
        "        self.bidirectional = bidirectional\n",
        "\n",
        "        # Define layers\n",
        "        self.word_embeddings = nn.Embedding(input_vocab_size, embedding_dim,\n",
        "                                            padding_idx=0)\n",
        "        self.rnn = nn.GRU(embedding_dim, hidden_size,\n",
        "                          bidirectional=bidirectional,\n",
        "                          dropout=0.9)\n",
        "        if bidirectional:\n",
        "            self.fc = nn.Linear(2*hidden_size, output_vocab_size)\n",
        "        else:\n",
        "            self.fc = nn.Linear(hidden_size, output_vocab_size)\n",
        "        self.activation = nn.LogSoftmax(dim=2)\n",
        "\n",
        "    def forward(self, x, lengths=None, hidden=None):\n",
        "        \"\"\"Computes a forward pass of the language model.\n",
        "\n",
        "        Args:\n",
        "            x: A LongTensor w/ dimension [seq_len, batch_size].\n",
        "            lengths: The lengths of the sequences in x.\n",
        "            hidden: Hidden state to be fed into the lstm.\n",
        "\n",
        "        Returns:\n",
        "            net: the output representation for each word in the sequence.\n",
        "            hidden: the hidden state at the last timestamp.\n",
        "        \"\"\"\n",
        "        seq_len, batch_size = x.size()\n",
        "\n",
        "        # If no hidden state is provided, then default to zeros.\n",
        "        if hidden is None:\n",
        "            if self.bidirectional:\n",
        "                num_directions = 2\n",
        "            else:\n",
        "                num_directions = 1\n",
        "            hidden = Variable(torch.zeros(num_directions, batch_size, self.hidden_size))\n",
        "            if torch.cuda.is_available():\n",
        "                hidden = hidden.cuda()\n",
        "\n",
        "        net = self.word_embeddings(x)\n",
        "        # Pack before feeding into the RNN.\n",
        "        if lengths is not None:\n",
        "            lengths = lengths.data.view(-1).tolist()\n",
        "            net = pack_padded_sequence(net, lengths)\n",
        "        net, hidden = self.rnn(net, hidden)\n",
        "        # Unpack after\n",
        "        if lengths is not None:\n",
        "            net, _ = pad_packed_sequence(net)\n",
        "        net = self.fc(net)\n",
        "        net = self.activation(net)\n",
        "\n",
        "        return net, hidden"
      ]
    },
    {
      "cell_type": "markdown",
      "metadata": {
        "cell_id": "d890273612704134a8f8ce72b6765672",
        "deepnote_cell_type": "markdown",
        "id": "y40pNO31oKK9"
      },
      "source": [
        "### Training\n",
        "\n",
        "Training is pretty much exactly the same as in the previous tutorial. There is one catch - we don't want to evaluate our loss function on pad tokens. This is easily fixed by setting the weight of the pad class to zero."
      ]
    },
    {
      "cell_type": "code",
      "execution_count": null,
      "metadata": {
        "cell_id": "b5f27faa9d0f4d7db8314a2408fdf446",
        "deepnote_cell_type": "code",
        "id": "WL1FdHbkoKK9",
        "outputId": "3a472734-ecad-42bd-f286-e51b57d54964"
      },
      "outputs": [
        {
          "name": "stdout",
          "output_type": "stream",
          "text": [
            "Iteration 0 - Train Loss: 2.903163 - Dev Loss: 2.864312\r"
          ]
        },
        {
          "name": "stderr",
          "output_type": "stream",
          "text": [
            "/home/rlogan/projects/uci-statnlp/tutorials/.venv/lib/python3.6/site-packages/torch/serialization.py:158: UserWarning: Couldn't retrieve source code for container of type Tagger. It won't be checked for correctness upon loading.\n",
            "  \"type \" + obj.__name__ + \". It won't be checked \"\n"
          ]
        },
        {
          "name": "stdout",
          "output_type": "stream",
          "text": [
            "Iteration 270 - Train Loss: 0.966636 - Dev Loss: 1.002316\r"
          ]
        },
        {
          "name": "stderr",
          "output_type": "stream",
          "text": [
            "Exception ignored in: <bound method TensorDescriptorArray.__del__ of <torch.backends.cudnn.TensorDescriptorArray object at 0x7f69da957668>>\n",
            "Traceback (most recent call last):\n",
            "  File \"/home/rlogan/projects/uci-statnlp/tutorials/.venv/lib/python3.6/site-packages/torch/backends/cudnn/__init__.py\", line 156, in __del__\n",
            "    check_error(lib.cudnnDestroyTensorDescriptor(ctypes.c_void_p(ptr)))\n",
            "  File \"/home/rlogan/projects/uci-statnlp/tutorials/.venv/lib/python3.6/site-packages/torch/backends/cudnn/__init__.py\", line 282, in check_error\n",
            "    if status is not 0:\n",
            "KeyboardInterrupt\n"
          ]
        },
        {
          "name": "stdout",
          "output_type": "stream",
          "text": [
            "Iteration 4700 - Train Loss: 0.145518 - Dev Loss: 0.385398\r"
          ]
        }
      ],
      "source": [
        "import numpy as np\n",
        "\n",
        "# Load datasets.\n",
        "train_dataset = CoNLLDataset('en-ud-train.conllu')\n",
        "dev_dataset = CoNLLDataset('en-ud-dev.conllu')\n",
        "\n",
        "dev_dataset.token_vocab = train_dataset.token_vocab\n",
        "dev_dataset.pos_vocab = train_dataset.pos_vocab\n",
        "\n",
        "# Hyperparameters / constants.\n",
        "input_vocab_size = len(train_dataset.token_vocab)\n",
        "output_vocab_size = len(train_dataset.pos_vocab)\n",
        "batch_size = 16\n",
        "epochs = 6\n",
        "\n",
        "# Initialize the model.\n",
        "model = Tagger(input_vocab_size, output_vocab_size)\n",
        "if torch.cuda.is_available():\n",
        "    model = model.cuda()\n",
        "\n",
        "# Loss function weights.\n",
        "weight = torch.ones(output_vocab_size)\n",
        "weight[0] = 0\n",
        "if torch.cuda.is_available():\n",
        "    weight = weight.cuda()\n",
        "\n",
        "# Initialize loss function and optimizer.\n",
        "loss_function = torch.nn.NLLLoss(weight)\n",
        "optimizer = torch.optim.Adam(model.parameters())\n",
        "\n",
        "# Main training loop.\n",
        "data_loader = DataLoader(train_dataset, batch_size=batch_size, shuffle=True,\n",
        "                         collate_fn=collate_annotations)\n",
        "dev_loader = DataLoader(dev_dataset, batch_size=batch_size, shuffle=False,\n",
        "                        collate_fn=collate_annotations)\n",
        "losses = []\n",
        "i = 0\n",
        "for epoch in range(epochs):\n",
        "    for inputs, targets, lengths in data_loader:\n",
        "        optimizer.zero_grad()\n",
        "        outputs, _ = model(inputs, lengths=lengths)\n",
        "\n",
        "        outputs = outputs.view(-1, output_vocab_size)\n",
        "        targets = targets.view(-1)\n",
        "\n",
        "        loss = loss_function(outputs, targets)\n",
        "        loss.backward()\n",
        "        optimizer.step()\n",
        "\n",
        "        losses.append(loss.data[0])\n",
        "        if (i % 10) == 0:\n",
        "            # Compute dev loss over entire dev set.\n",
        "            # NOTE: This is expensive. In your work you may want to only use a\n",
        "            # subset of the dev set.\n",
        "            dev_losses = []\n",
        "            for inputs, targets, lengths in dev_loader:\n",
        "                outputs, _ = model(inputs, lengths=lengths)\n",
        "                outputs = outputs.view(-1, output_vocab_size)\n",
        "                targets = targets.view(-1)\n",
        "                loss = loss_function(outputs, targets)\n",
        "                dev_losses.append(loss.data[0])\n",
        "            avg_train_loss = np.mean(losses)\n",
        "            avg_dev_loss = np.mean(dev_losses)\n",
        "            losses = []\n",
        "            print('Iteration %i - Train Loss: %0.6f - Dev Loss: %0.6f' % (i, avg_train_loss, avg_dev_loss), end='\\r')\n",
        "            torch.save(model, 'pos_tagger.pt')\n",
        "        i += 1\n",
        "\n",
        "torch.save(model, 'pos_tagger.final.pt')"
      ]
    },
    {
      "cell_type": "markdown",
      "metadata": {
        "cell_id": "7203c2b15a3944099f252e6299d26fba",
        "deepnote_cell_type": "markdown",
        "id": "TJ5SiU0foKK-"
      },
      "source": [
        "### Evaluation\n",
        "\n",
        "For tagging tasks the typical evaluation metric are accuracy and f1-score (e.g. the harmonic mean of precision and recall):\n",
        "\n",
        "$$ \\text{f1-score} = 2 \\frac{\\text{precision} * \\text{recall}}{\\text{precision} + \\text{recall}} $$\n",
        "\n",
        "Here are the results for our final model:"
      ]
    },
    {
      "cell_type": "code",
      "execution_count": null,
      "metadata": {
        "cell_id": "dc1ddda44d1f4771888dd4a00c4fe222",
        "deepnote_cell_type": "code",
        "id": "UK0JuMR2oKK-",
        "outputId": "896d8953-2efa-4362-e090-ae5ddabb929b"
      },
      "outputs": [
        {
          "name": "stdout",
          "output_type": "stream",
          "text": [
            "Accuracy - 0.889264\n",
            "\n",
            "F1-scores:\n",
            "\n",
            "NOUN - 0.849118\n",
            "PUNCT - 0.992869\n",
            "VERB - 0.877663\n",
            "PRON - 0.980800\n",
            "ADP - 0.934226\n",
            "DET - 0.980932\n",
            "PROPN - 0.693179\n",
            "ADJ - 0.820047\n",
            "AUX - 0.960367\n",
            "ADV - 0.832597\n",
            "CCONJ - 0.989096\n",
            "PART - 0.936482\n",
            "NUM - 0.771879\n",
            "SCONJ - 0.813648\n",
            "X - 0.000699\n",
            "INTJ - 0.717949\n",
            "SYM - 0.660194\n"
          ]
        },
        {
          "name": "stderr",
          "output_type": "stream",
          "text": [
            "/home/rlogan/projects/uci-statnlp/tutorials/.venv/lib/python3.6/site-packages/sklearn/metrics/classification.py:1135: UndefinedMetricWarning: F-score is ill-defined and being set to 0.0 in labels with no predicted samples.\n",
            "  'precision', 'predicted', average, warn_for)\n"
          ]
        }
      ],
      "source": [
        "# Collect the predictions and targets\n",
        "y_true = []\n",
        "y_pred = []\n",
        "\n",
        "for inputs, targets, lengths in dev_loader:\n",
        "    outputs, _ = model(inputs, lengths=lengths)\n",
        "    _, preds = torch.max(outputs, dim=2)\n",
        "    targets = targets.view(-1)\n",
        "    preds = preds.view(-1)\n",
        "    if torch.cuda.is_available():\n",
        "        targets = targets.cpu()\n",
        "        preds = preds.cpu()\n",
        "    y_true.append(targets.data.numpy())\n",
        "    y_pred.append(preds.data.numpy())\n",
        "\n",
        "# Stack into numpy arrays\n",
        "y_true = np.concatenate(y_true)\n",
        "y_pred = np.concatenate(y_pred)\n",
        "\n",
        "# Compute accuracy\n",
        "acc = np.mean(y_true[y_true != 0] == y_pred[y_true != 0])\n",
        "print('Accuracy - %0.6f\\n' % acc)\n",
        "\n",
        "# Evaluate f1-score\n",
        "from sklearn.metrics import f1_score\n",
        "score = f1_score(y_true, y_pred, average=None)\n",
        "print('F1-scores:\\n')\n",
        "for label, score in zip(dev_dataset.pos_vocab._id2word[1:], score[1:]):\n",
        "    print('%s - %0.6f' % (label, score))"
      ]
    },
    {
      "cell_type": "markdown",
      "metadata": {
        "cell_id": "80db8ab9f03c4c29a0b4e3bd597a7782",
        "deepnote_cell_type": "markdown",
        "id": "bI15KIqWoKK-"
      },
      "source": [
        "### Inference\n",
        "\n",
        "Now let's look at some of the model's predictions."
      ]
    },
    {
      "cell_type": "code",
      "execution_count": null,
      "metadata": {
        "cell_id": "22433cbac35b46e1a0d8a86121da06ef",
        "deepnote_cell_type": "code",
        "id": "q6uOBHu8oKK-"
      },
      "outputs": [],
      "source": [
        "model = torch.load('pos_tagger.final.pt')\n",
        "\n",
        "def inference(sentence):\n",
        "    # Convert words to id tensor.\n",
        "    ids = [[dataset.token_vocab.word2id(x)] for x in sentence]\n",
        "    ids = Variable(torch.LongTensor(ids))\n",
        "    if torch.cuda.is_available():\n",
        "        ids = ids.cuda()\n",
        "    # Get model output.\n",
        "    output, _ = model(ids)\n",
        "    _, preds = torch.max(output, dim=2)\n",
        "    if torch.cuda.is_available():\n",
        "        preds = preds.cpu()\n",
        "    preds = preds.data.view(-1).numpy()\n",
        "    pos_tags = [dataset.pos_vocab.id2word(x) for x in preds]\n",
        "    for word, tag in zip(sentence, pos_tags):\n",
        "        print('%s - %s' % (word, tag))"
      ]
    },
    {
      "cell_type": "code",
      "execution_count": null,
      "metadata": {
        "cell_id": "ee8488453add4dcab4e6d0e273f96d37",
        "deepnote_cell_type": "code",
        "id": "6HipFvTdoKK-"
      },
      "outputs": [],
      "source": [
        "sentence = \"sdfgkj asd;glkjsdg ;lkj  .\".split()\n",
        "inference(sentence)"
      ]
    },
    {
      "cell_type": "markdown",
      "metadata": {
        "cell_id": "154a31deefb7443d9df9d63ec377bad0",
        "deepnote_cell_type": "markdown",
        "id": "RhJn0Z1XoKK-"
      },
      "source": [
        "# Example: Sentiment Analysis\n",
        "\n",
        "According to [Wikipedia](https://en.wikipedia.org/wiki/Sentiment_analysis):\n",
        "\n",
        ">Opinion mining (sometimes known as sentiment analysis or emotion AI) refers to the use of natural language processing, text analysis, computational linguistics, and biometrics to systematically identify, extract, quantify, and study affective states and subjective information.\n",
        "\n",
        "Formally, given a sequence of words $\\mathbf{x} = \\left< x_1, x_2, \\ldots, x_t \\right>$ the goal is to learn a model $P(y \\,|\\, \\mathbf{x})$ where $y$ is the sentiment associated to the sentence. This is very similar to the problem above, with the exception that we only want a single output for each sentence not a sentence. Accordingly, we will only highlight the neccessary changes that need to be made.\n",
        "\n",
        "### Dataset\n",
        "\n",
        "We will be using the Kaggle 'Sentiment Analysis on Movie Reviews' dataset [[link](https://www.kaggle.com/c/sentiment-analysis-on-movie-reviews/data)]. You will need to agree to the Kaggle terms of service in order to download this data. The following code can be used to process this data."
      ]
    },
    {
      "cell_type": "code",
      "execution_count": null,
      "metadata": {
        "cell_id": "1778e46f18e34623bdb0df6de45274af",
        "deepnote_cell_type": "code",
        "id": "_rh_a1nYoKK-"
      },
      "outputs": [],
      "source": [
        "import torch\n",
        "from collections import Counter\n",
        "from torch.autograd import Variable\n",
        "from torch.utils.data import Dataset\n",
        "\n",
        "\n",
        "class Annotation(object):\n",
        "    def __init__(self):\n",
        "        \"\"\"A helper object for storing annotation data.\"\"\"\n",
        "        self.tokens = []\n",
        "        self.sentiment = None\n",
        "\n",
        "\n",
        "class SentimentDataset(Dataset):\n",
        "    def __init__(self, fname):\n",
        "        \"\"\"Initializes the SentimentDataset.\n",
        "        Args:\n",
        "            fname: The .tsv file to load data from.\n",
        "        \"\"\"\n",
        "        self.fname = fname\n",
        "        self.annotations = self.process_tsv_file(fname)\n",
        "        self.token_vocab = Vocab([x.tokens for x in self.annotations],\n",
        "                                 unk_token='<unk>')\n",
        "\n",
        "    def __len__(self):\n",
        "        return len(self.annotations)\n",
        "\n",
        "    def __getitem__(self, idx):\n",
        "        annotation = self.annotations[idx]\n",
        "        input = [self.token_vocab.word2id(x) for x in annotation.tokens]\n",
        "        target = annotation.sentiment\n",
        "        return input, target\n",
        "\n",
        "    def process_tsv_file(self, fname):\n",
        "        # Read the entire file.\n",
        "        with open(fname, 'r') as f:\n",
        "            lines = f.readlines()\n",
        "        annotations = []\n",
        "        observed_ids = set()\n",
        "        for line in lines[1:]:\n",
        "            annotation = Annotation()\n",
        "            _, sentence_id, sentence, sentiment = line.split('\\t')\n",
        "            sentence_id = sentence_id\n",
        "            if sentence_id in observed_ids:\n",
        "                continue\n",
        "            else:\n",
        "                observed_ids.add(sentence_id)\n",
        "            annotation.tokens = sentence.split()\n",
        "            annotation.sentiment = int(sentiment)\n",
        "            if len(annotation.tokens) > 0:\n",
        "                annotations.append(annotation)\n",
        "        return annotations\n",
        "\n",
        "\n",
        "def pad(sequences, max_length, pad_value=0):\n",
        "    \"\"\"Pads a list of sequences.\n",
        "    Args:\n",
        "        sequences: A list of sequences to be padded.\n",
        "        max_length: The length to pad to.\n",
        "        pad_value: The value used for padding.\n",
        "    Returns:\n",
        "        A list of padded sequences.\n",
        "    \"\"\"\n",
        "    out = []\n",
        "    for sequence in sequences:\n",
        "        padded = sequence + [0]*(max_length - len(sequence))\n",
        "        out.append(padded)\n",
        "    return out\n",
        "\n",
        "\n",
        "def collate_annotations(batch):\n",
        "    \"\"\"Function used to collate data returned by CoNLLDataset.\"\"\"\n",
        "    # Get inputs, targets, and lengths.\n",
        "    inputs, targets = zip(*batch)\n",
        "    lengths = [len(x) for x in inputs]\n",
        "    # Sort by length.\n",
        "    sort = sorted(zip(inputs, targets, lengths),\n",
        "                  key=lambda x: x[2],\n",
        "                  reverse=True)\n",
        "    inputs, targets, lengths = zip(*sort)\n",
        "    # Pad.\n",
        "    max_length = max(lengths)\n",
        "    inputs = pad(inputs, max_length)\n",
        "    # Transpose.\n",
        "    inputs = list(map(list, zip(*inputs)))\n",
        "    # Convert to PyTorch variables.\n",
        "    inputs = Variable(torch.LongTensor(inputs))\n",
        "    targets = Variable(torch.LongTensor(targets))\n",
        "    lengths = Variable(torch.LongTensor(lengths))\n",
        "    if torch.cuda.is_available():\n",
        "        inputs = inputs.cuda()\n",
        "        targets = targets.cuda()\n",
        "        lengths = lengths.cuda()\n",
        "    return inputs, targets, lengths"
      ]
    },
    {
      "cell_type": "markdown",
      "metadata": {
        "cell_id": "78399039dd9f4fddaddff7d9499a5e46",
        "deepnote_cell_type": "markdown",
        "id": "5WvjvzPnoKK_"
      },
      "source": [
        "### Model\n",
        "\n",
        "The model architecture we will use for sentiment classification is almost exactly the same as the one we used for tagging. The only difference is that we want the model to produce a single output at the end, not a sequence of outputs. While there are many ways to do this, a simple approach is to just use the final hidden state of the recurrent layer as the input to the fully connected layer. This approach is particularly nice in PyTorch since the forward pass of the recurrent layer returns the final hidden states as its second output (see the note in the code below if this is unclear), so we do not need to do any fancy indexing tricks to get them.\n",
        "\n",
        "Formally, the model architecture we will use is:\n",
        "\n",
        "1. Embed the input words into a 200 dimensional vector space.\n",
        "2. Feed the word embeddings into a GRU.\n",
        "3. Feed the final hidden state output by the GRU into a fully connected layer.\n",
        "4. Use a softmax activation to get the probabilities of the different labels."
      ]
    },
    {
      "cell_type": "code",
      "execution_count": null,
      "metadata": {
        "cell_id": "b32c94c702c043eeae6eec5cdfbc2f6e",
        "deepnote_cell_type": "code",
        "id": "9A7Fj252oKK_"
      },
      "outputs": [],
      "source": [
        "from torch import nn\n",
        "from torch.nn.utils.rnn import pack_padded_sequence, pad_packed_sequence\n",
        "\n",
        "\n",
        "class SentimentClassifier(nn.Module):\n",
        "    def __init__(self,\n",
        "                 input_vocab_size,\n",
        "                 output_vocab_size,\n",
        "                 embedding_dim=64,\n",
        "                 hidden_size=64):\n",
        "        \"\"\"Initializes the tagger.\n",
        "\n",
        "        Args:\n",
        "            input_vocab_size: Size of the input vocabulary.\n",
        "            output_vocab_size: Size of the output vocabulary.\n",
        "            embedding_dim: Dimension of the word embeddings.\n",
        "            hidden_size: Number of units in each LSTM hidden layer.\n",
        "        \"\"\"\n",
        "        # Always do this!!!\n",
        "        super(SentimentClassifier, self).__init__()\n",
        "\n",
        "        # Store parameters\n",
        "        self.input_vocab_size = input_vocab_size\n",
        "        self.output_vocab_size = output_vocab_size\n",
        "        self.embedding_dim = embedding_dim\n",
        "        self.hidden_size = hidden_size\n",
        "\n",
        "        # Define layers\n",
        "        self.word_embeddings = nn.Embedding(input_vocab_size, embedding_dim,\n",
        "                                            padding_idx=0)\n",
        "        self.rnn = nn.GRU(embedding_dim, hidden_size, dropout=0.9)\n",
        "        self.fc = nn.Linear(hidden_size, output_vocab_size)\n",
        "        self.activation = nn.LogSoftmax(dim=2)\n",
        "\n",
        "    def forward(self, x, lengths=None, hidden=None):\n",
        "        \"\"\"Computes a forward pass of the language model.\n",
        "\n",
        "        Args:\n",
        "            x: A LongTensor w/ dimension [seq_len, batch_size].\n",
        "            lengths: The lengths of the sequences in x.\n",
        "            hidden: Hidden state to be fed into the lstm.\n",
        "\n",
        "        Returns:\n",
        "            net: the output representation for each word in the sequence.\n",
        "            hidden: Hidden state of the last timestamp.\n",
        "        \"\"\"\n",
        "        seq_len, batch_size = x.size()\n",
        "\n",
        "        # If no hidden state is provided, then default to zeros.\n",
        "        if hidden is None:\n",
        "            hidden = Variable(torch.zeros(1, batch_size, self.hidden_size))\n",
        "            if torch.cuda.is_available():\n",
        "                hidden = hidden.cuda()\n",
        "\n",
        "        net = self.word_embeddings(x)\n",
        "        if lengths is not None:\n",
        "            lengths_list = lengths.data.view(-1).tolist()\n",
        "            net = pack_padded_sequence(net, lengths_list)\n",
        "        net, hidden = self.rnn(net, hidden)\n",
        "        # NOTE: we are using hidden as the input to the fully-connected layer, not net!!!\n",
        "        net = self.fc(hidden)\n",
        "        net = self.activation(net)\n",
        "\n",
        "        return net, hidden"
      ]
    },
    {
      "cell_type": "markdown",
      "metadata": {
        "cell_id": "aec2eebc0821456cbcae8fb5ad822b2f",
        "deepnote_cell_type": "markdown",
        "id": "9YGN2M8coKK_"
      },
      "source": [
        "### Training\n",
        "\n",
        "This code should look pretty familiar by now..."
      ]
    },
    {
      "cell_type": "code",
      "execution_count": null,
      "metadata": {
        "cell_id": "2458de9ec1f64d7c803cef4aa93315b9",
        "deepnote_cell_type": "code",
        "id": "YhlQ16-PoKK_",
        "scrolled": true
      },
      "outputs": [],
      "source": [
        "import numpy as np\n",
        "from torch.utils.data import DataLoader\n",
        "\n",
        "# Load dataset.\n",
        "sentiment_dataset = SentimentDataset('train.tsv')\n",
        "\n",
        "# Hyperparameters / constants.\n",
        "input_vocab_size = len(sentiment_dataset.token_vocab)\n",
        "output_vocab_size = 5\n",
        "batch_size = 16\n",
        "epochs = 7\n",
        "\n",
        "# Initialize the model.\n",
        "model = SentimentClassifier(input_vocab_size, output_vocab_size)\n",
        "if torch.cuda.is_available():\n",
        "    model = model.cuda()\n",
        "\n",
        "# Initialize loss function and optimizer.\n",
        "loss_function = torch.nn.NLLLoss()\n",
        "optimizer = torch.optim.Adam(model.parameters())\n",
        "\n",
        "# Main training loop.\n",
        "data_loader = DataLoader(sentiment_dataset, batch_size=batch_size, shuffle=True,\n",
        "                         collate_fn=collate_annotations)\n",
        "losses = []\n",
        "i = 0\n",
        "for epoch in range(epochs):\n",
        "    for inputs, targets, lengths in data_loader:\n",
        "        optimizer.zero_grad()\n",
        "        outputs, _ = model(inputs, lengths=lengths)\n",
        "\n",
        "        outputs = outputs.view(-1, output_vocab_size)\n",
        "        targets = targets.view(-1)\n",
        "\n",
        "        loss = loss_function(outputs, targets)\n",
        "        loss.backward()\n",
        "        optimizer.step()\n",
        "\n",
        "        losses.append(loss.data[0])\n",
        "        if (i % 100) == 0:\n",
        "            average_loss = np.mean(losses)\n",
        "            losses = []\n",
        "            print('Iteration %i - Loss: %0.6f' % (i, average_loss), end='\\r')\n",
        "        if (i % 1000) == 0:\n",
        "            torch.save(model, 'sentiment_classifier.pt')\n",
        "        i += 1\n",
        "\n",
        "torch.save(model, 'sentiment_classifier.final.pt')"
      ]
    },
    {
      "cell_type": "markdown",
      "metadata": {
        "cell_id": "6f8573ec9a504e5f9aff56e83e51a147",
        "deepnote_cell_type": "markdown",
        "id": "MiQFBaIfoKK_"
      },
      "source": [
        "### Inference\n",
        "\n",
        "Lastly, let's examine some model outputs:"
      ]
    },
    {
      "cell_type": "code",
      "execution_count": null,
      "metadata": {
        "cell_id": "02aa42580b12415cb8c911f0f8e1d3a9",
        "deepnote_cell_type": "code",
        "id": "TKh0flnIoKK_"
      },
      "outputs": [],
      "source": [
        "model = torch.load('sentiment_classifier.final.pt')\n",
        "\n",
        "def inference(sentence):\n",
        "    # Convert words to id tensor.\n",
        "    ids = [[sentiment_dataset.token_vocab.word2id(x)] for x in sentence]\n",
        "    ids = Variable(torch.LongTensor(ids))\n",
        "    if torch.cuda.is_available():\n",
        "        ids = ids.cuda()\n",
        "    # Get model output.\n",
        "    output, _ = model(ids)\n",
        "    _, pred = torch.max(output, dim=2)\n",
        "    if torch.cuda.is_available():\n",
        "        pred = pred.cpu()\n",
        "    pred = pred.data.view(-1).numpy()\n",
        "    print('Sentence: %s' % ' '.join(sentence))\n",
        "    print('Sentiment (0=negative, 4=positive): %i' % pred)"
      ]
    },
    {
      "cell_type": "code",
      "execution_count": null,
      "metadata": {
        "cell_id": "30f5bb3b65be454d8e4f1c3e549524b7",
        "deepnote_cell_type": "code",
        "id": "uhpeZPpaoKK_",
        "outputId": "b48b6758-f5bd-46a6-ec5a-a108331111a6"
      },
      "outputs": [
        {
          "name": "stdout",
          "output_type": "stream",
          "text": [
            "Sentence: This tutorial is going downhill .\n",
            "Sentiment (0=negative, 4=positive): 3\n"
          ]
        },
        {
          "name": "stderr",
          "output_type": "stream",
          "text": [
            "/home/rlogan/projects/uci-statnlp/tutorials/.venv/lib/python3.6/site-packages/ipykernel_launcher.py:59: UserWarning: RNN module weights are not part of single contiguous chunk of memory. This means they need to be compacted at every call, possibly greately increasing memory usage. To compact weights again call flatten_parameters().\n"
          ]
        }
      ],
      "source": [
        "sentence = 'Zot zot  .'.split()\n",
        "inference(sentence)"
      ]
    },
    {
      "cell_type": "markdown",
      "metadata": {
        "created_in_deepnote_cell": true,
        "deepnote_cell_type": "markdown",
        "id": "mWXd8125oKLA"
      },
      "source": [
        "<a style='text-decoration:none;line-height:16px;display:flex;color:#5B5B62;padding:10px;justify-content:end;' href='https://deepnote.com?utm_source=created-in-deepnote-cell&projectId=a606c68a-0fb4-4c6a-9886-fddaecf4a93b' target=\"_blank\">\n",
        "<img alt='Created in deepnote.com' style='display:inline;max-height:16px;margin:0px;margin-right:7.5px;' src='data:image/svg+xml;base64,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' > </img>\n",
        "Created in <span style='font-weight:600;margin-left:4px;'>Deepnote</span></a>"
      ]
    }
  ],
  "metadata": {
    "colab": {
      "provenance": []
    },
    "deepnote_execution_queue": [],
    "deepnote_notebook_id": "a458e12a9e1b47c689218e6a20bcfcb0",
    "kernelspec": {
      "display_name": "Python 3",
      "name": "python3"
    },
    "language_info": {
      "name": "python",
      "version": "3.11.8"
    }
  },
  "nbformat": 4,
  "nbformat_minor": 0
}
